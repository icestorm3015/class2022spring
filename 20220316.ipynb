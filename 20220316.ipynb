{
  "nbformat": 4,
  "nbformat_minor": 0,
  "metadata": {
    "colab": {
      "name": "Untitled0.ipynb",
      "provenance": [],
      "authorship_tag": "ABX9TyNQuYtgxAKy4DhlkyOXRpiR",
      "include_colab_link": true
    },
    "kernelspec": {
      "name": "python3",
      "display_name": "Python 3"
    },
    "language_info": {
      "name": "python"
    }
  },
  "cells": [
    {
      "cell_type": "markdown",
      "metadata": {
        "id": "view-in-github",
        "colab_type": "text"
      },
      "source": [
        "<a href=\"https://colab.research.google.com/github/icestorm3015/class2022spring/blob/main/20220316.ipynb\" target=\"_parent\"><img src=\"https://colab.research.google.com/assets/colab-badge.svg\" alt=\"Open In Colab\"/></a>"
      ]
    },
    {
      "cell_type": "markdown",
      "source": [
        "20220316 과제 겸 복습 페이지"
      ],
      "metadata": {
        "id": "SNrO3UmsErva"
      }
    },
    {
      "cell_type": "markdown",
      "source": [
        "**파이썬에서 중요한 것**\n",
        "1. 변수 (variables)\n",
        "2. 문법 (syntax)\n",
        " 1) 조건문 if\n",
        " 2) 반복문 for\n",
        "3. 함수 (function)\n",
        "4. 패키지(packages, import) = 다른 프로그래밍 언어에서 library 와 같음"
      ],
      "metadata": {
        "id": "LlQILeVkeJr5"
      }
    },
    {
      "cell_type": "markdown",
      "source": [
        "**변수의 종류**\n",
        "1. numbers - 정수 int, 실수 float (소수점 있으면 float e.g. 1.1 or 1.0 etc)\n",
        "2. string : 문자열\n",
        "3. list [, , ,] - num, string, list 등등 들어갈 수 있음\n",
        "4. tuple (, , ,) - list와 유사. 차이점: list는 내용물 변경 가능하지만 튜플은 불가. \n",
        "예) a = (1,2,3) ; a[1] --> 실행 X\n",
        "print (a[1] + a[2]) --> 5. 실행 O\n",
        "5. dict : {key : value}"
      ],
      "metadata": {
        "id": "xDq9VwB5e67f"
      }
    },
    {
      "cell_type": "markdown",
      "source": [
        "변수의 종류 알아보기"
      ],
      "metadata": {
        "id": "08KB8Oa1h_cc"
      }
    },
    {
      "cell_type": "code",
      "source": [
        "# type() : variable의 class를 알려주는 함수\n",
        "a=1; print(type(a))"
      ],
      "metadata": {
        "colab": {
          "base_uri": "https://localhost:8080/"
        },
        "id": "o2gYd3uOhUAK",
        "outputId": "ef91b039-f822-4977-e1fe-b4daf9f32a00"
      },
      "execution_count": 1,
      "outputs": [
        {
          "output_type": "stream",
          "name": "stdout",
          "text": [
            "<class 'int'>\n"
          ]
        }
      ]
    },
    {
      "cell_type": "code",
      "source": [
        "a=1.1 ; print(type(a))"
      ],
      "metadata": {
        "colab": {
          "base_uri": "https://localhost:8080/"
        },
        "id": "iuUYGcxFeuiA",
        "outputId": "c1d2f43b-0239-474b-8e13-4e0d972a5192"
      },
      "execution_count": 2,
      "outputs": [
        {
          "output_type": "stream",
          "name": "stdout",
          "text": [
            "<class 'float'>\n"
          ]
        }
      ]
    },
    {
      "cell_type": "code",
      "execution_count": 3,
      "metadata": {
        "id": "qOS1p39wEh3T",
        "colab": {
          "base_uri": "https://localhost:8080/"
        },
        "outputId": "d9c1cef6-b83f-4301-96fe-ee82efca8b48"
      },
      "outputs": [
        {
          "output_type": "stream",
          "name": "stdout",
          "text": [
            "<class 'float'>\n"
          ]
        }
      ],
      "source": [
        "a=1.0 ; print(type(a))"
      ]
    },
    {
      "cell_type": "code",
      "source": [
        "a='123' ; print(type(a))"
      ],
      "metadata": {
        "colab": {
          "base_uri": "https://localhost:8080/"
        },
        "id": "y2955y7xjHAw",
        "outputId": "9704b3a6-9a00-4170-8c7d-55dc5313e418"
      },
      "execution_count": 4,
      "outputs": [
        {
          "output_type": "stream",
          "name": "stdout",
          "text": [
            "<class 'str'>\n"
          ]
        }
      ]
    },
    {
      "cell_type": "code",
      "source": [
        "a='helloworld' ; print(type(a))"
      ],
      "metadata": {
        "colab": {
          "base_uri": "https://localhost:8080/"
        },
        "id": "3VVm6x2GjQ-I",
        "outputId": "83829fd6-1c0c-4772-d50a-df17a5eba3f2"
      },
      "execution_count": 5,
      "outputs": [
        {
          "output_type": "stream",
          "name": "stdout",
          "text": [
            "<class 'str'>\n"
          ]
        }
      ]
    },
    {
      "cell_type": "code",
      "source": [
        "a = [1,2,3,4]\n",
        "print(type(a))"
      ],
      "metadata": {
        "colab": {
          "base_uri": "https://localhost:8080/"
        },
        "id": "wwO64vc2jYy1",
        "outputId": "6f5b0f04-d493-40db-877d-932488d60c0d"
      },
      "execution_count": 6,
      "outputs": [
        {
          "output_type": "stream",
          "name": "stdout",
          "text": [
            "<class 'list'>\n"
          ]
        }
      ]
    },
    {
      "cell_type": "markdown",
      "source": [
        "Indexing 알아보기"
      ],
      "metadata": {
        "id": "8nRpewX7jcA-"
      }
    },
    {
      "cell_type": "code",
      "source": [
        "a=[1,2,3,4,5,6,7,8,9,10]\n",
        "print(a[0])\n",
        "print(a[1])\n",
        "print(a[9])"
      ],
      "metadata": {
        "colab": {
          "base_uri": "https://localhost:8080/"
        },
        "id": "19BLORcbjzRU",
        "outputId": "1f4bf8e2-f6cf-414a-e348-7a3005ae1781"
      },
      "execution_count": 7,
      "outputs": [
        {
          "output_type": "stream",
          "name": "stdout",
          "text": [
            "1\n",
            "2\n",
            "10\n"
          ]
        }
      ]
    },
    {
      "cell_type": "code",
      "source": [
        "print(a[10])"
      ],
      "metadata": {
        "colab": {
          "base_uri": "https://localhost:8080/",
          "height": 172
        },
        "id": "Vcdql2PQkMRl",
        "outputId": "0dad906e-c1be-4c56-d7b7-4cd7e06ed1f9"
      },
      "execution_count": 8,
      "outputs": [
        {
          "output_type": "error",
          "ename": "IndexError",
          "evalue": "ignored",
          "traceback": [
            "\u001b[0;31m---------------------------------------------------------------------------\u001b[0m",
            "\u001b[0;31mIndexError\u001b[0m                                Traceback (most recent call last)",
            "\u001b[0;32m<ipython-input-8-45a6398849db>\u001b[0m in \u001b[0;36m<module>\u001b[0;34m()\u001b[0m\n\u001b[0;32m----> 1\u001b[0;31m \u001b[0mprint\u001b[0m\u001b[0;34m(\u001b[0m\u001b[0ma\u001b[0m\u001b[0;34m[\u001b[0m\u001b[0;36m10\u001b[0m\u001b[0;34m]\u001b[0m\u001b[0;34m)\u001b[0m\u001b[0;34m\u001b[0m\u001b[0;34m\u001b[0m\u001b[0m\n\u001b[0m",
            "\u001b[0;31mIndexError\u001b[0m: list index out of range"
          ]
        }
      ]
    },
    {
      "cell_type": "code",
      "source": [
        "print(a[-1])\n",
        "print(a[-2])"
      ],
      "metadata": {
        "colab": {
          "base_uri": "https://localhost:8080/"
        },
        "id": "AGNoAQzAkT7F",
        "outputId": "954c4280-de33-4e52-a433-9d3e2ad4ac54"
      },
      "execution_count": 9,
      "outputs": [
        {
          "output_type": "stream",
          "name": "stdout",
          "text": [
            "10\n",
            "9\n"
          ]
        }
      ]
    },
    {
      "cell_type": "code",
      "source": [
        "#indexing은 왼쪽에서는 0 으로 시작, 오른쪽에서는 -1 로 시작"
      ],
      "metadata": {
        "id": "4Fyc8JN3kcoP"
      },
      "execution_count": null,
      "outputs": []
    },
    {
      "cell_type": "code",
      "source": [
        "#indexing 의미: 0에서 5 하나 이전꺼 까지\n",
        "print(a[0:5])"
      ],
      "metadata": {
        "colab": {
          "base_uri": "https://localhost:8080/"
        },
        "id": "pd7P_TQrlMjc",
        "outputId": "e4ccd010-2164-49da-83fa-b8a5be69fe58"
      },
      "execution_count": 13,
      "outputs": [
        {
          "output_type": "stream",
          "name": "stdout",
          "text": [
            "[1, 2, 3, 4, 5]\n"
          ]
        }
      ]
    },
    {
      "cell_type": "code",
      "source": [
        "#indexing 의미: 3번째꺼에서 끝까지 / 처음부터 7번째꺼 이전까지\n",
        "print(a[3:])\n",
        "print(a[:7])"
      ],
      "metadata": {
        "colab": {
          "base_uri": "https://localhost:8080/"
        },
        "id": "mXmKDqAzlftU",
        "outputId": "aaf81c28-76b0-4005-ef7b-8409c298c84e"
      },
      "execution_count": 14,
      "outputs": [
        {
          "output_type": "stream",
          "name": "stdout",
          "text": [
            "[4, 5, 6, 7, 8, 9, 10]\n",
            "[1, 2, 3, 4, 5, 6, 7]\n"
          ]
        }
      ]
    },
    {
      "cell_type": "code",
      "source": [
        "b=[1, 'a', [7,8]]\n",
        "print(type(b))\n",
        "print(b[2])"
      ],
      "metadata": {
        "colab": {
          "base_uri": "https://localhost:8080/"
        },
        "id": "JJYBKzhymL6X",
        "outputId": "bb1339a9-96a3-4d53-a624-4b5f7131858c"
      },
      "execution_count": 15,
      "outputs": [
        {
          "output_type": "stream",
          "name": "stdout",
          "text": [
            "<class 'list'>\n",
            "[7, 8]\n"
          ]
        }
      ]
    },
    {
      "cell_type": "code",
      "source": [
        "#리스트의 한 변수가 리스트일 때, 그 안에서 indexing 하는 방법\n",
        "b[2][1]"
      ],
      "metadata": {
        "colab": {
          "base_uri": "https://localhost:8080/"
        },
        "id": "XqrBAjwcmkru",
        "outputId": "807aa7b0-b7f3-4ccc-cce5-da05fc578eff"
      },
      "execution_count": 17,
      "outputs": [
        {
          "output_type": "execute_result",
          "data": {
            "text/plain": [
              "8"
            ]
          },
          "metadata": {},
          "execution_count": 17
        }
      ]
    },
    {
      "cell_type": "code",
      "source": [
        "#string의 indexing도 list와 동일\n",
        "z='abcdef123'\n",
        "print(type(z))\n",
        "print(z[2:5])\n",
        "print(z[2:-4])"
      ],
      "metadata": {
        "colab": {
          "base_uri": "https://localhost:8080/"
        },
        "id": "EFKbVKJ2m6D9",
        "outputId": "a79cf794-30a1-4b75-f6fe-ba9776d89425"
      },
      "execution_count": 19,
      "outputs": [
        {
          "output_type": "stream",
          "name": "stdout",
          "text": [
            "<class 'str'>\n",
            "cde\n",
            "cde\n"
          ]
        }
      ]
    },
    {
      "cell_type": "code",
      "source": [
        "#dict의 성질\n",
        "g={'a': 'apple', 'b': 'orange', 'c': 111}\n",
        "print(type(g))"
      ],
      "metadata": {
        "colab": {
          "base_uri": "https://localhost:8080/"
        },
        "id": "3sAOIOMWnnnc",
        "outputId": "b575e7e9-de90-4c20-9e77-ae85f5f1a379"
      },
      "execution_count": 21,
      "outputs": [
        {
          "output_type": "stream",
          "name": "stdout",
          "text": [
            "<class 'dict'>\n"
          ]
        }
      ]
    },
    {
      "cell_type": "code",
      "source": [
        "#dict의 indexing은 다름\n",
        "g[0:2]"
      ],
      "metadata": {
        "colab": {
          "base_uri": "https://localhost:8080/",
          "height": 190
        },
        "id": "GfEsNEnLoGsp",
        "outputId": "885bb5d3-feea-42fa-b593-55099a09663a"
      },
      "execution_count": 23,
      "outputs": [
        {
          "output_type": "error",
          "ename": "TypeError",
          "evalue": "ignored",
          "traceback": [
            "\u001b[0;31m---------------------------------------------------------------------------\u001b[0m",
            "\u001b[0;31mTypeError\u001b[0m                                 Traceback (most recent call last)",
            "\u001b[0;32m<ipython-input-23-99ca5c082585>\u001b[0m in \u001b[0;36m<module>\u001b[0;34m()\u001b[0m\n\u001b[1;32m      1\u001b[0m \u001b[0;31m#dict의 indexing은 다름\u001b[0m\u001b[0;34m\u001b[0m\u001b[0;34m\u001b[0m\u001b[0;34m\u001b[0m\u001b[0m\n\u001b[0;32m----> 2\u001b[0;31m \u001b[0mg\u001b[0m\u001b[0;34m[\u001b[0m\u001b[0;36m0\u001b[0m\u001b[0;34m:\u001b[0m\u001b[0;36m2\u001b[0m\u001b[0;34m]\u001b[0m\u001b[0;34m\u001b[0m\u001b[0;34m\u001b[0m\u001b[0m\n\u001b[0m",
            "\u001b[0;31mTypeError\u001b[0m: unhashable type: 'slice'"
          ]
        }
      ]
    },
    {
      "cell_type": "code",
      "source": [
        "print(g['a'])\n",
        "print(g['c'])"
      ],
      "metadata": {
        "colab": {
          "base_uri": "https://localhost:8080/"
        },
        "id": "Yxpsyp3CoQEr",
        "outputId": "e0bfb81c-10fa-4de9-cac2-547df11f3a63"
      },
      "execution_count": 25,
      "outputs": [
        {
          "output_type": "stream",
          "name": "stdout",
          "text": [
            "apple\n",
            "111\n"
          ]
        }
      ]
    },
    {
      "cell_type": "markdown",
      "source": [
        "함수 function\n",
        "\n",
        "입력값과 출력값이 있음, 괄호가 있어야 함\n",
        "\n",
        "built-in function : 내장된 함수"
      ],
      "metadata": {
        "id": "8P0uDo-grqpl"
      }
    },
    {
      "cell_type": "code",
      "source": [
        "#len() 함수: length 길이\n",
        "c='abcdefgh123'\n",
        "len(c)"
      ],
      "metadata": {
        "id": "FRuTqzxOqzz1",
        "outputId": "3200a70f-d273-4233-fac6-3d7a29b9a733",
        "colab": {
          "base_uri": "https://localhost:8080/"
        }
      },
      "execution_count": 26,
      "outputs": [
        {
          "output_type": "execute_result",
          "data": {
            "text/plain": [
              "11"
            ]
          },
          "metadata": {},
          "execution_count": 26
        }
      ]
    },
    {
      "cell_type": "code",
      "source": [
        "print(len('blue'))\n",
        "len('abc123')"
      ],
      "metadata": {
        "id": "6MgwEVOx8MxO",
        "outputId": "9c68dd26-2e0b-4e46-83ea-4229e654ca04",
        "colab": {
          "base_uri": "https://localhost:8080/"
        }
      },
      "execution_count": 52,
      "outputs": [
        {
          "output_type": "stream",
          "name": "stdout",
          "text": [
            "4\n"
          ]
        },
        {
          "output_type": "execute_result",
          "data": {
            "text/plain": [
              "6"
            ]
          },
          "metadata": {},
          "execution_count": 52
        }
      ]
    },
    {
      "cell_type": "code",
      "source": [
        "#indexing 한 걸로도 더하거나 곱할 수 있음\n",
        "c[1] + c[3]+ c[-2:]*5"
      ],
      "metadata": {
        "id": "bVR9HyPXsAkQ",
        "outputId": "27d09775-572d-4a3e-b3a5-644e83f89a75",
        "colab": {
          "base_uri": "https://localhost:8080/",
          "height": 35
        }
      },
      "execution_count": 28,
      "outputs": [
        {
          "output_type": "execute_result",
          "data": {
            "text/plain": [
              "'bd2323232323'"
            ],
            "application/vnd.google.colaboratory.intrinsic+json": {
              "type": "string"
            }
          },
          "metadata": {},
          "execution_count": 28
        }
      ]
    },
    {
      "cell_type": "code",
      "source": [
        "#.upper()\n",
        "# c를 대문자로 만듦\n",
        "c.upper()"
      ],
      "metadata": {
        "id": "Q_GqY8SAt_6z",
        "outputId": "0ef28a6e-15fe-455d-cab7-a7d37345d8e8",
        "colab": {
          "base_uri": "https://localhost:8080/",
          "height": 35
        }
      },
      "execution_count": 32,
      "outputs": [
        {
          "output_type": "execute_result",
          "data": {
            "text/plain": [
              "'ABCDEFGH123'"
            ],
            "application/vnd.google.colaboratory.intrinsic+json": {
              "type": "string"
            }
          },
          "metadata": {},
          "execution_count": 32
        }
      ]
    },
    {
      "cell_type": "code",
      "source": [
        "s = ' this is a house built this year.\\n'\n",
        "s"
      ],
      "metadata": {
        "id": "rmXszAPcuNdP",
        "outputId": "cd3814f2-c5fe-4152-fef8-d0cd291f5891",
        "colab": {
          "base_uri": "https://localhost:8080/",
          "height": 35
        }
      },
      "execution_count": 41,
      "outputs": [
        {
          "output_type": "execute_result",
          "data": {
            "text/plain": [
              "' this is a house built this year.\\n'"
            ],
            "application/vnd.google.colaboratory.intrinsic+json": {
              "type": "string"
            }
          },
          "metadata": {},
          "execution_count": 41
        }
      ]
    },
    {
      "cell_type": "code",
      "source": [
        "# .find()\n",
        "# result 는 s에서 'house'가 등장하는 자리값\n",
        "result = s.find('house')\n",
        "result"
      ],
      "metadata": {
        "id": "27GQvaX8udbr",
        "outputId": "dee01f62-c0b9-4304-bc25-b441c8440d2e",
        "colab": {
          "base_uri": "https://localhost:8080/"
        }
      },
      "execution_count": 38,
      "outputs": [
        {
          "output_type": "execute_result",
          "data": {
            "text/plain": [
              "11"
            ]
          },
          "metadata": {},
          "execution_count": 38
        }
      ]
    },
    {
      "cell_type": "code",
      "source": [
        "# 스페이스바도 한 자리로 친다, 'this'가 2개 있는데 그 중 첫번째\n",
        "result = s.find('this')\n",
        "result"
      ],
      "metadata": {
        "id": "J2iidzoYuthO",
        "outputId": "c6aed66f-a279-4aef-d48d-34a23b52781d",
        "colab": {
          "base_uri": "https://localhost:8080/"
        }
      },
      "execution_count": 35,
      "outputs": [
        {
          "output_type": "execute_result",
          "data": {
            "text/plain": [
              "1"
            ]
          },
          "metadata": {},
          "execution_count": 35
        }
      ]
    },
    {
      "cell_type": "code",
      "source": [
        "# .strip()\n",
        "# s는 s의 내용물 중 trailing white space들을 지운 것 --> 맨앞의 스페이스바와 마지막에 있던 것 삭제\n",
        "s = s.strip()\n",
        "s"
      ],
      "metadata": {
        "id": "LVVjE3_yutVt",
        "outputId": "43890e8f-eb2c-4536-b4b5-6db827864386",
        "colab": {
          "base_uri": "https://localhost:8080/",
          "height": 35
        }
      },
      "execution_count": 43,
      "outputs": [
        {
          "output_type": "execute_result",
          "data": {
            "text/plain": [
              "'this is a house built this year.'"
            ],
            "application/vnd.google.colaboratory.intrinsic+json": {
              "type": "string"
            }
          },
          "metadata": {},
          "execution_count": 43
        }
      ]
    },
    {
      "cell_type": "code",
      "source": [
        "# .split()\n",
        "# s를 ' '을 중심으로 쪼개서 list로 만들기\n",
        "tokens = s.split(' ')\n",
        "tokens"
      ],
      "metadata": {
        "id": "FHDvIzmKv21H",
        "outputId": "8fd7a4cc-ec81-44b7-81d4-520aceb45bd0",
        "colab": {
          "base_uri": "https://localhost:8080/"
        }
      },
      "execution_count": 44,
      "outputs": [
        {
          "output_type": "execute_result",
          "data": {
            "text/plain": [
              "['this', 'is', 'a', 'house', 'built', 'this', 'year.']"
            ]
          },
          "metadata": {},
          "execution_count": 44
        }
      ]
    },
    {
      "cell_type": "code",
      "source": [
        "# .join()\n",
        "# 연결하여 str으로 만들기\n",
        "s = ' '.join(tokens)\n",
        "s"
      ],
      "metadata": {
        "id": "-6SP1qQhwJeS",
        "outputId": "d07bdb9c-d5e2-4a04-d936-a8cfd3baf517",
        "colab": {
          "base_uri": "https://localhost:8080/",
          "height": 35
        }
      },
      "execution_count": 45,
      "outputs": [
        {
          "output_type": "execute_result",
          "data": {
            "text/plain": [
              "'this is a house built this year.'"
            ],
            "application/vnd.google.colaboratory.intrinsic+json": {
              "type": "string"
            }
          },
          "metadata": {},
          "execution_count": 45
        }
      ]
    },
    {
      "cell_type": "code",
      "source": [
        "# .join() 의 특성\n",
        "s1='o'.join(tokens)\n",
        "s1"
      ],
      "metadata": {
        "id": "khAYMbf5wiYD",
        "outputId": "2a3dc148-e41c-439e-dab5-c25759b24504",
        "colab": {
          "base_uri": "https://localhost:8080/",
          "height": 35
        }
      },
      "execution_count": 47,
      "outputs": [
        {
          "output_type": "execute_result",
          "data": {
            "text/plain": [
              "'thisoisoaohouseobuiltothisoyear.'"
            ],
            "application/vnd.google.colaboratory.intrinsic+json": {
              "type": "string"
            }
          },
          "metadata": {},
          "execution_count": 47
        }
      ]
    },
    {
      "cell_type": "code",
      "source": [
        "# .replace()\n",
        "# 'this'를 'that' 으로 대체\n",
        "s=s.replace('this','that')\n",
        "s"
      ],
      "metadata": {
        "id": "Ed59x4z9xHMI",
        "outputId": "efd764c5-0825-4f5a-9b5c-cb88953e81a8",
        "colab": {
          "base_uri": "https://localhost:8080/",
          "height": 35
        }
      },
      "execution_count": 48,
      "outputs": [
        {
          "output_type": "execute_result",
          "data": {
            "text/plain": [
              "'that is a house built that year.'"
            ],
            "application/vnd.google.colaboratory.intrinsic+json": {
              "type": "string"
            }
          },
          "metadata": {},
          "execution_count": 48
        }
      ]
    },
    {
      "cell_type": "markdown",
      "source": [
        "**함수 만들기**\n",
        "\n",
        "def 함수명 (입력변수1, 입력변수2) :\n",
        "\n",
        "return 출력변수1, 출력변수2"
      ],
      "metadata": {
        "id": "bmW-SF5fyMtp"
      }
    },
    {
      "cell_type": "code",
      "source": [
        "def add(a,b):\n",
        "  return a+b\n",
        "\n",
        "def minus(a,b):\n",
        "  return a-b\n",
        "\n",
        "def multi(a,b):\n",
        "  return a*b\n",
        "\n",
        "def divi(a,b):\n",
        "  return a/b"
      ],
      "metadata": {
        "id": "AtqA5-yc9Hlx"
      },
      "execution_count": 53,
      "outputs": []
    },
    {
      "cell_type": "code",
      "source": [
        "# 위 방법과 이 방법이 모두 같은 의미\n",
        "def add(a,b):\n",
        "  c = a+b\n",
        "  return c"
      ],
      "metadata": {
        "id": "o6he3iZq9l_2"
      },
      "execution_count": 55,
      "outputs": []
    },
    {
      "cell_type": "code",
      "source": [
        "c= add(1,2); print(c)\n",
        "c= minus(1,2); print(c)\n",
        "c= multi(1,2); print(c)\n",
        "c= divi(1,2) ; print (c)"
      ],
      "metadata": {
        "id": "Sbe4ld4_9z8Q",
        "outputId": "b5965872-b9b8-4150-98c8-aa28f012406f",
        "colab": {
          "base_uri": "https://localhost:8080/"
        }
      },
      "execution_count": 56,
      "outputs": [
        {
          "output_type": "stream",
          "name": "stdout",
          "text": [
            "3\n",
            "-1\n",
            "2\n",
            "0.5\n"
          ]
        }
      ]
    },
    {
      "cell_type": "markdown",
      "source": [
        "**Syntax 알아보기: for, if**"
      ],
      "metadata": {
        "id": "hNoAXgoj-PzC"
      }
    },
    {
      "cell_type": "markdown",
      "source": [
        "반복문 for\n",
        "\n",
        "for i in a:\n",
        "\n",
        "(띄우기) _____________________\n",
        "\n",
        "\n",
        "- 첫줄의 의미: a 에 있는 것들을 i로 처음부터 하나씩 받아서 실행한다 (for-loop)"
      ],
      "metadata": {
        "id": "VyTPK0p7-Zzc"
      }
    },
    {
      "cell_type": "code",
      "source": [
        "a= [1,2,3,4]\n",
        "for i in a:\n",
        "  print(i)"
      ],
      "metadata": {
        "id": "uUL8ZNHd-xo7",
        "outputId": "e94747f3-d69a-453d-bbf0-c2cd2503c923",
        "colab": {
          "base_uri": "https://localhost:8080/"
        }
      },
      "execution_count": 57,
      "outputs": [
        {
          "output_type": "stream",
          "name": "stdout",
          "text": [
            "1\n",
            "2\n",
            "3\n",
            "4\n"
          ]
        }
      ]
    },
    {
      "cell_type": "markdown",
      "source": [
        "range()\n",
        "\n",
        "--> range 안에 list가 만들어짐\n",
        "\n",
        "예) range(4) : [0,1,2,3]"
      ],
      "metadata": {
        "id": "Z0nyHN46_r-q"
      }
    },
    {
      "cell_type": "code",
      "source": [
        "# range(len(a)) 또는 range(4)\n",
        "a = [1,2,3,4]\n",
        "for i in range(len(a)):\n",
        "  print(a[i])"
      ],
      "metadata": {
        "id": "LCuCKAV6_S_p",
        "outputId": "a4f475f9-c606-401c-d1a0-62713c2e1ce9",
        "colab": {
          "base_uri": "https://localhost:8080/"
        }
      },
      "execution_count": 58,
      "outputs": [
        {
          "output_type": "stream",
          "name": "stdout",
          "text": [
            "1\n",
            "2\n",
            "3\n",
            "4\n"
          ]
        }
      ]
    },
    {
      "cell_type": "code",
      "source": [
        "a = ['red', 'green', 'blue', 'purple']\n",
        "for i in a:\n",
        "  print(i)"
      ],
      "metadata": {
        "id": "IXBvyPKgATxp",
        "outputId": "cada2432-1f8e-4782-f16a-2440715a02f8",
        "colab": {
          "base_uri": "https://localhost:8080/"
        }
      },
      "execution_count": 59,
      "outputs": [
        {
          "output_type": "stream",
          "name": "stdout",
          "text": [
            "red\n",
            "green\n",
            "blue\n",
            "purple\n"
          ]
        }
      ]
    },
    {
      "cell_type": "code",
      "source": [
        "a = ['red', 'green', 'blue', 'purple']\n",
        "for i in range(len(a)):\n",
        "  print(a[i])"
      ],
      "metadata": {
        "id": "CCk2aLrRAx18",
        "outputId": "1a534e8b-e8e0-49f3-b8ab-8fad69147b4f",
        "colab": {
          "base_uri": "https://localhost:8080/"
        }
      },
      "execution_count": 60,
      "outputs": [
        {
          "output_type": "stream",
          "name": "stdout",
          "text": [
            "red\n",
            "green\n",
            "blue\n",
            "purple\n"
          ]
        }
      ]
    },
    {
      "cell_type": "markdown",
      "source": [
        "조건문 if\n",
        "\n",
        "if _____________:\n",
        "\n",
        "(띄어쓰기) _____________\n",
        "\n",
        "else:\n",
        "\n",
        "(띄어쓰기) _______"
      ],
      "metadata": {
        "id": "1ObhjpayBEem"
      }
    },
    {
      "cell_type": "code",
      "source": [
        "# == : 같다, != : 다르다, a >= b: a가 b보다 크거나 같다"
      ],
      "metadata": {
        "id": "0iOYg73pBfBL"
      },
      "execution_count": null,
      "outputs": []
    },
    {
      "cell_type": "code",
      "source": [
        "a=0\n",
        "if a == 0:\n",
        "  print(a+1)\n",
        "else:\n",
        "  print('false')"
      ],
      "metadata": {
        "id": "9ZuxlO7bBopd",
        "outputId": "cdea55d6-11fa-46da-80d7-08002cba41a7",
        "colab": {
          "base_uri": "https://localhost:8080/"
        }
      },
      "execution_count": 62,
      "outputs": [
        {
          "output_type": "stream",
          "name": "stdout",
          "text": [
            "1\n"
          ]
        }
      ]
    },
    {
      "cell_type": "code",
      "source": [
        "a = 240\n",
        "if a != 0:\n",
        "  print('wow')\n",
        "else:\n",
        "  print('zero')"
      ],
      "metadata": {
        "id": "xGTbWTqZBDUU",
        "outputId": "b114809b-b3b7-42c3-bcd3-9aef68847f73",
        "colab": {
          "base_uri": "https://localhost:8080/"
        }
      },
      "execution_count": 63,
      "outputs": [
        {
          "output_type": "stream",
          "name": "stdout",
          "text": [
            "wow\n"
          ]
        }
      ]
    },
    {
      "cell_type": "code",
      "source": [
        "# range(1,3) : [1,2], range(3,5) :[3,4]\n",
        "# i*j 순서: 1*3, 1*4, 2*3, 2*4\n",
        "for i in range(1,3):\n",
        "  for j in range(3,5):\n",
        "    print(i*j)"
      ],
      "metadata": {
        "id": "c9TA0Bv9CfWX",
        "outputId": "912c2feb-1565-4af3-96db-27f13786a574",
        "colab": {
          "base_uri": "https://localhost:8080/"
        }
      },
      "execution_count": 64,
      "outputs": [
        {
          "output_type": "stream",
          "name": "stdout",
          "text": [
            "3\n",
            "4\n",
            "6\n",
            "8\n"
          ]
        }
      ]
    },
    {
      "cell_type": "code",
      "source": [
        "for i in range(1,3):\n",
        "  for j in range(3,5):\n",
        "    if j>=4:\n",
        "      print(i*j)"
      ],
      "metadata": {
        "id": "96O5RqIJC_iV",
        "outputId": "3c8a3d55-c96d-4a02-9526-e4a7af5d1b54",
        "colab": {
          "base_uri": "https://localhost:8080/"
        }
      },
      "execution_count": 65,
      "outputs": [
        {
          "output_type": "stream",
          "name": "stdout",
          "text": [
            "4\n",
            "8\n"
          ]
        }
      ]
    },
    {
      "cell_type": "markdown",
      "source": [
        "List Comprehension"
      ],
      "metadata": {
        "id": "0eKsMZbpDThT"
      }
    },
    {
      "cell_type": "code",
      "source": [
        "# a의 1이 for i의 i로 들어갔다가 i>=2로 들어갔다가 맨 앞의 i로/ 그다음 loop\n",
        "a = [1,2,3,4]\n",
        "b = [i for i in a if i>=2]\n",
        "b"
      ],
      "metadata": {
        "id": "Mnth34l1DKZD",
        "outputId": "fdd830d6-7153-45fa-c3ca-829ba1cdc2b7",
        "colab": {
          "base_uri": "https://localhost:8080/"
        }
      },
      "execution_count": 66,
      "outputs": [
        {
          "output_type": "execute_result",
          "data": {
            "text/plain": [
              "[2, 3, 4]"
            ]
          },
          "metadata": {},
          "execution_count": 66
        }
      ]
    },
    {
      "cell_type": "code",
      "source": [
        "a=['red', 'green', 'blue', 'purple']\n",
        "b=[i for i in a if len(i) >=4]\n",
        "b"
      ],
      "metadata": {
        "id": "-kGV50b4D6Vh",
        "outputId": "f20e3d5b-540a-441a-8fa4-6c656f15bbac",
        "colab": {
          "base_uri": "https://localhost:8080/"
        }
      },
      "execution_count": 67,
      "outputs": [
        {
          "output_type": "execute_result",
          "data": {
            "text/plain": [
              "['green', 'blue', 'purple']"
            ]
          },
          "metadata": {},
          "execution_count": 67
        }
      ]
    },
    {
      "cell_type": "markdown",
      "source": [
        "Dict Comprehension"
      ],
      "metadata": {
        "id": "lmlrq8_uDWOX"
      }
    },
    {
      "cell_type": "code",
      "source": [
        "#dict에서 순서는 중요하지 않음\n",
        "a = ['red', 'green', 'blue', 'purple']\n",
        "b= [1,2,3,4]\n",
        "c= {a[i]: b[i] for i in range(4)}\n",
        "c"
      ],
      "metadata": {
        "id": "LPROVDG-EGQ_",
        "outputId": "eaa90972-ad6c-4d28-a764-15748a5590e3",
        "colab": {
          "base_uri": "https://localhost:8080/"
        }
      },
      "execution_count": 69,
      "outputs": [
        {
          "output_type": "execute_result",
          "data": {
            "text/plain": [
              "{'blue': 3, 'green': 2, 'purple': 4, 'red': 1}"
            ]
          },
          "metadata": {},
          "execution_count": 69
        }
      ]
    }
  ]
}