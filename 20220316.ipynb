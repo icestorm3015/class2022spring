{
  "nbformat": 4,
  "nbformat_minor": 0,
  "metadata": {
    "colab": {
      "name": "Untitled0.ipynb",
      "provenance": [],
      "authorship_tag": "ABX9TyN1h7krGPZlvFfZfXMH9uK8",
      "include_colab_link": true
    },
    "kernelspec": {
      "name": "python3",
      "display_name": "Python 3"
    },
    "language_info": {
      "name": "python"
    }
  },
  "cells": [
    {
      "cell_type": "markdown",
      "metadata": {
        "id": "view-in-github",
        "colab_type": "text"
      },
      "source": [
        "<a href=\"https://colab.research.google.com/github/icestorm3015/class2022spring/blob/main/20220316.ipynb\" target=\"_parent\"><img src=\"https://colab.research.google.com/assets/colab-badge.svg\" alt=\"Open In Colab\"/></a>"
      ]
    },
    {
      "cell_type": "markdown",
      "source": [
        "20220316 과제 겸 복습 페이지"
      ],
      "metadata": {
        "id": "SNrO3UmsErva"
      }
    },
    {
      "cell_type": "markdown",
      "source": [
        "**파이썬에서 중요한 것**\n",
        "1. 변수 (variables)\n",
        "2. 문법 (syntax)\n",
        " 1) 조건문 if\n",
        " 2) 반복문 for\n",
        "3. 함수 (function)\n",
        "4. 패키지(packages, import) = 다른 프로그래밍 언어에서 library 와 같음"
      ],
      "metadata": {
        "id": "LlQILeVkeJr5"
      }
    },
    {
      "cell_type": "markdown",
      "source": [
        "**변수의 종류**\n",
        "1. numbers - 정수 int, 실수 float (소수점 있으면 float e.g. 1.1 or 1.0 etc)\n",
        "2. string : 문자열\n",
        "3. list [, , ,] - num, string, list 등등 들어갈 수 있음\n",
        "4. tuple (, , ,) - list와 유사. 차이점: list는 내용물 변경 가능하지만 튜플은 불가. \n",
        "예) a = (1,2,3) ; a[1] --> 실행 X\n",
        "print (a[1] + a[2]) --> 5. 실행 O\n",
        "5. dict : {key : value}"
      ],
      "metadata": {
        "id": "xDq9VwB5e67f"
      }
    },
    {
      "cell_type": "markdown",
      "source": [
        "변수의 종류 알아보기"
      ],
      "metadata": {
        "id": "08KB8Oa1h_cc"
      }
    },
    {
      "cell_type": "code",
      "source": [
        "# type() : variable의 class를 알려주는 함수\n",
        "a=1; print(type(a))"
      ],
      "metadata": {
        "id": "o2gYd3uOhUAK",
        "outputId": "ef91b039-f822-4977-e1fe-b4daf9f32a00",
        "colab": {
          "base_uri": "https://localhost:8080/"
        }
      },
      "execution_count": 1,
      "outputs": [
        {
          "output_type": "stream",
          "name": "stdout",
          "text": [
            "<class 'int'>\n"
          ]
        }
      ]
    },
    {
      "cell_type": "code",
      "source": [
        "a=1.1 ; print(type(a))"
      ],
      "metadata": {
        "colab": {
          "base_uri": "https://localhost:8080/"
        },
        "id": "iuUYGcxFeuiA",
        "outputId": "c1d2f43b-0239-474b-8e13-4e0d972a5192"
      },
      "execution_count": 2,
      "outputs": [
        {
          "output_type": "stream",
          "name": "stdout",
          "text": [
            "<class 'float'>\n"
          ]
        }
      ]
    },
    {
      "cell_type": "code",
      "execution_count": 3,
      "metadata": {
        "id": "qOS1p39wEh3T",
        "colab": {
          "base_uri": "https://localhost:8080/"
        },
        "outputId": "d9c1cef6-b83f-4301-96fe-ee82efca8b48"
      },
      "outputs": [
        {
          "output_type": "stream",
          "name": "stdout",
          "text": [
            "<class 'float'>\n"
          ]
        }
      ],
      "source": [
        "a=1.0 ; print(type(a))"
      ]
    },
    {
      "cell_type": "code",
      "source": [
        "a='123' ; print(type(a))"
      ],
      "metadata": {
        "id": "y2955y7xjHAw",
        "outputId": "9704b3a6-9a00-4170-8c7d-55dc5313e418",
        "colab": {
          "base_uri": "https://localhost:8080/"
        }
      },
      "execution_count": 4,
      "outputs": [
        {
          "output_type": "stream",
          "name": "stdout",
          "text": [
            "<class 'str'>\n"
          ]
        }
      ]
    },
    {
      "cell_type": "code",
      "source": [
        "a='helloworld' ; print(type(a))"
      ],
      "metadata": {
        "id": "3VVm6x2GjQ-I",
        "outputId": "83829fd6-1c0c-4772-d50a-df17a5eba3f2",
        "colab": {
          "base_uri": "https://localhost:8080/"
        }
      },
      "execution_count": 5,
      "outputs": [
        {
          "output_type": "stream",
          "name": "stdout",
          "text": [
            "<class 'str'>\n"
          ]
        }
      ]
    },
    {
      "cell_type": "code",
      "source": [
        "a = [1,2,3,4]\n",
        "print(type(a))"
      ],
      "metadata": {
        "id": "wwO64vc2jYy1",
        "outputId": "6f5b0f04-d493-40db-877d-932488d60c0d",
        "colab": {
          "base_uri": "https://localhost:8080/"
        }
      },
      "execution_count": 6,
      "outputs": [
        {
          "output_type": "stream",
          "name": "stdout",
          "text": [
            "<class 'list'>\n"
          ]
        }
      ]
    },
    {
      "cell_type": "markdown",
      "source": [
        "Indexing 알아보기"
      ],
      "metadata": {
        "id": "8nRpewX7jcA-"
      }
    },
    {
      "cell_type": "code",
      "source": [
        "a=[1,2,3,4,5,6,7,8,9,10]\n",
        "print(a[0])\n",
        "print(a[1])\n",
        "print(a[9])"
      ],
      "metadata": {
        "id": "19BLORcbjzRU",
        "outputId": "1f4bf8e2-f6cf-414a-e348-7a3005ae1781",
        "colab": {
          "base_uri": "https://localhost:8080/"
        }
      },
      "execution_count": 7,
      "outputs": [
        {
          "output_type": "stream",
          "name": "stdout",
          "text": [
            "1\n",
            "2\n",
            "10\n"
          ]
        }
      ]
    },
    {
      "cell_type": "code",
      "source": [
        "print(a[10])"
      ],
      "metadata": {
        "id": "Vcdql2PQkMRl",
        "outputId": "0dad906e-c1be-4c56-d7b7-4cd7e06ed1f9",
        "colab": {
          "base_uri": "https://localhost:8080/",
          "height": 172
        }
      },
      "execution_count": 8,
      "outputs": [
        {
          "output_type": "error",
          "ename": "IndexError",
          "evalue": "ignored",
          "traceback": [
            "\u001b[0;31m---------------------------------------------------------------------------\u001b[0m",
            "\u001b[0;31mIndexError\u001b[0m                                Traceback (most recent call last)",
            "\u001b[0;32m<ipython-input-8-45a6398849db>\u001b[0m in \u001b[0;36m<module>\u001b[0;34m()\u001b[0m\n\u001b[0;32m----> 1\u001b[0;31m \u001b[0mprint\u001b[0m\u001b[0;34m(\u001b[0m\u001b[0ma\u001b[0m\u001b[0;34m[\u001b[0m\u001b[0;36m10\u001b[0m\u001b[0;34m]\u001b[0m\u001b[0;34m)\u001b[0m\u001b[0;34m\u001b[0m\u001b[0;34m\u001b[0m\u001b[0m\n\u001b[0m",
            "\u001b[0;31mIndexError\u001b[0m: list index out of range"
          ]
        }
      ]
    },
    {
      "cell_type": "code",
      "source": [
        "print(a[-1])\n",
        "print(a[-2])"
      ],
      "metadata": {
        "id": "AGNoAQzAkT7F",
        "outputId": "954c4280-de33-4e52-a433-9d3e2ad4ac54",
        "colab": {
          "base_uri": "https://localhost:8080/"
        }
      },
      "execution_count": 9,
      "outputs": [
        {
          "output_type": "stream",
          "name": "stdout",
          "text": [
            "10\n",
            "9\n"
          ]
        }
      ]
    },
    {
      "cell_type": "code",
      "source": [
        "#indexing은 왼쪽에서는 0 으로 시작, 오른쪽에서는 -1 로 시작"
      ],
      "metadata": {
        "id": "4Fyc8JN3kcoP"
      },
      "execution_count": null,
      "outputs": []
    },
    {
      "cell_type": "code",
      "source": [
        "#indexing 의미: 0에서 5 하나 이전꺼 까지\n",
        "print(a[0:5])"
      ],
      "metadata": {
        "id": "pd7P_TQrlMjc",
        "outputId": "e4ccd010-2164-49da-83fa-b8a5be69fe58",
        "colab": {
          "base_uri": "https://localhost:8080/"
        }
      },
      "execution_count": 13,
      "outputs": [
        {
          "output_type": "stream",
          "name": "stdout",
          "text": [
            "[1, 2, 3, 4, 5]\n"
          ]
        }
      ]
    },
    {
      "cell_type": "code",
      "source": [
        "#indexing 의미: 3번째꺼에서 끝까지 / 처음부터 7번째꺼 이전까지\n",
        "print(a[3:])\n",
        "print(a[:7])"
      ],
      "metadata": {
        "id": "mXmKDqAzlftU",
        "outputId": "aaf81c28-76b0-4005-ef7b-8409c298c84e",
        "colab": {
          "base_uri": "https://localhost:8080/"
        }
      },
      "execution_count": 14,
      "outputs": [
        {
          "output_type": "stream",
          "name": "stdout",
          "text": [
            "[4, 5, 6, 7, 8, 9, 10]\n",
            "[1, 2, 3, 4, 5, 6, 7]\n"
          ]
        }
      ]
    },
    {
      "cell_type": "code",
      "source": [
        "b=[1, 'a', [7,8]]\n",
        "print(type(b))\n",
        "print(b[2])"
      ],
      "metadata": {
        "id": "JJYBKzhymL6X",
        "outputId": "bb1339a9-96a3-4d53-a624-4b5f7131858c",
        "colab": {
          "base_uri": "https://localhost:8080/"
        }
      },
      "execution_count": 15,
      "outputs": [
        {
          "output_type": "stream",
          "name": "stdout",
          "text": [
            "<class 'list'>\n",
            "[7, 8]\n"
          ]
        }
      ]
    },
    {
      "cell_type": "code",
      "source": [
        "#리스트의 한 변수가 리스트일 때, 그 안에서 indexing 하는 방법\n",
        "b[2][1]"
      ],
      "metadata": {
        "id": "XqrBAjwcmkru",
        "outputId": "807aa7b0-b7f3-4ccc-cce5-da05fc578eff",
        "colab": {
          "base_uri": "https://localhost:8080/"
        }
      },
      "execution_count": 17,
      "outputs": [
        {
          "output_type": "execute_result",
          "data": {
            "text/plain": [
              "8"
            ]
          },
          "metadata": {},
          "execution_count": 17
        }
      ]
    },
    {
      "cell_type": "code",
      "source": [
        "#string의 indexing도 list와 동일\n",
        "z='abcdef123'\n",
        "print(type(z))\n",
        "print(z[2:5])\n",
        "print(z[2:-4])"
      ],
      "metadata": {
        "id": "EFKbVKJ2m6D9",
        "outputId": "a79cf794-30a1-4b75-f6fe-ba9776d89425",
        "colab": {
          "base_uri": "https://localhost:8080/"
        }
      },
      "execution_count": 19,
      "outputs": [
        {
          "output_type": "stream",
          "name": "stdout",
          "text": [
            "<class 'str'>\n",
            "cde\n",
            "cde\n"
          ]
        }
      ]
    },
    {
      "cell_type": "code",
      "source": [
        "#dict의 성질\n",
        "g={'a': 'apple', 'b': 'orange', 'c': 111}\n",
        "print(type(g))"
      ],
      "metadata": {
        "id": "3sAOIOMWnnnc",
        "outputId": "b575e7e9-de90-4c20-9e77-ae85f5f1a379",
        "colab": {
          "base_uri": "https://localhost:8080/"
        }
      },
      "execution_count": 21,
      "outputs": [
        {
          "output_type": "stream",
          "name": "stdout",
          "text": [
            "<class 'dict'>\n"
          ]
        }
      ]
    },
    {
      "cell_type": "code",
      "source": [
        "#dict의 indexing은 다름\n",
        "g[0:2]"
      ],
      "metadata": {
        "id": "GfEsNEnLoGsp",
        "outputId": "885bb5d3-feea-42fa-b593-55099a09663a",
        "colab": {
          "base_uri": "https://localhost:8080/",
          "height": 190
        }
      },
      "execution_count": 23,
      "outputs": [
        {
          "output_type": "error",
          "ename": "TypeError",
          "evalue": "ignored",
          "traceback": [
            "\u001b[0;31m---------------------------------------------------------------------------\u001b[0m",
            "\u001b[0;31mTypeError\u001b[0m                                 Traceback (most recent call last)",
            "\u001b[0;32m<ipython-input-23-99ca5c082585>\u001b[0m in \u001b[0;36m<module>\u001b[0;34m()\u001b[0m\n\u001b[1;32m      1\u001b[0m \u001b[0;31m#dict의 indexing은 다름\u001b[0m\u001b[0;34m\u001b[0m\u001b[0;34m\u001b[0m\u001b[0;34m\u001b[0m\u001b[0m\n\u001b[0;32m----> 2\u001b[0;31m \u001b[0mg\u001b[0m\u001b[0;34m[\u001b[0m\u001b[0;36m0\u001b[0m\u001b[0;34m:\u001b[0m\u001b[0;36m2\u001b[0m\u001b[0;34m]\u001b[0m\u001b[0;34m\u001b[0m\u001b[0;34m\u001b[0m\u001b[0m\n\u001b[0m",
            "\u001b[0;31mTypeError\u001b[0m: unhashable type: 'slice'"
          ]
        }
      ]
    },
    {
      "cell_type": "code",
      "source": [
        "print(g['a'])\n",
        "print(g['c'])"
      ],
      "metadata": {
        "id": "Yxpsyp3CoQEr",
        "outputId": "e0bfb81c-10fa-4de9-cac2-547df11f3a63",
        "colab": {
          "base_uri": "https://localhost:8080/"
        }
      },
      "execution_count": 25,
      "outputs": [
        {
          "output_type": "stream",
          "name": "stdout",
          "text": [
            "apple\n",
            "111\n"
          ]
        }
      ]
    }
  ]
}