{
  "nbformat": 4,
  "nbformat_minor": 0,
  "metadata": {
    "colab": {
      "name": "Untitled0.ipynb",
      "provenance": [],
      "authorship_tag": "ABX9TyMmJ3+Cg+/LwTt0mT9fHKKM",
      "include_colab_link": true
    },
    "kernelspec": {
      "name": "python3",
      "display_name": "Python 3"
    },
    "language_info": {
      "name": "python"
    }
  },
  "cells": [
    {
      "cell_type": "markdown",
      "metadata": {
        "id": "view-in-github",
        "colab_type": "text"
      },
      "source": [
        "<a href=\"https://colab.research.google.com/github/icestorm3015/class2022spring/blob/main/20220316.ipynb\" target=\"_parent\"><img src=\"https://colab.research.google.com/assets/colab-badge.svg\" alt=\"Open In Colab\"/></a>"
      ]
    },
    {
      "cell_type": "markdown",
      "source": [
        "20220316 과제 겸 복습 페이지"
      ],
      "metadata": {
        "id": "SNrO3UmsErva"
      }
    },
    {
      "cell_type": "markdown",
      "source": [
        "파이썬에서 중요한 것\n",
        "1. 변수 (variables)\n",
        "2. 문법 (syntax)\n",
        " 1) 조건문 if\n",
        " 2) 반복문 for\n",
        "3. 함수 (function)\n",
        "4. 패키지(packages, import) = 다른 프로그래밍 언어에서 library 와 같음"
      ],
      "metadata": {
        "id": "LlQILeVkeJr5"
      }
    },
    {
      "cell_type": "markdown",
      "source": [
        "**변수의 종류**\n",
        "1. numbers - 정수 int, 실수 float (소수점 있으면 float e.g. 1.1 or 1.0 etc)\n",
        "2. string : 문자열\n",
        "3. list [, , ,] - num, string, list 등등 들어갈 수 있음\n",
        "4. tuple (, , ,) - list와 유사. 차이점: list는 내용물 변경 가능하지만 튜플은 불가. \n",
        "예) a = (1,2,3) ; a[1] --> 실행 X\n",
        "print (a[1] + a[2]) --> 5. 실행 O\n",
        "5. dict : {key : value}"
      ],
      "metadata": {
        "id": "xDq9VwB5e67f"
      }
    },
    {
      "cell_type": "code",
      "source": [
        ""
      ],
      "metadata": {
        "id": "IC_7176Neulh"
      },
      "execution_count": null,
      "outputs": []
    },
    {
      "cell_type": "code",
      "source": [
        ""
      ],
      "metadata": {
        "id": "iuUYGcxFeuiA"
      },
      "execution_count": null,
      "outputs": []
    },
    {
      "cell_type": "code",
      "execution_count": null,
      "metadata": {
        "id": "qOS1p39wEh3T"
      },
      "outputs": [],
      "source": [
        ""
      ]
    }
  ]
}