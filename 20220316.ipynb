{
  "nbformat": 4,
  "nbformat_minor": 0,
  "metadata": {
    "colab": {
      "name": "Untitled0.ipynb",
      "provenance": [],
      "authorship_tag": "ABX9TyNS7LEXzxeJ+VfeXgAkp3Y7",
      "include_colab_link": true
    },
    "kernelspec": {
      "name": "python3",
      "display_name": "Python 3"
    },
    "language_info": {
      "name": "python"
    }
  },
  "cells": [
    {
      "cell_type": "markdown",
      "metadata": {
        "id": "view-in-github",
        "colab_type": "text"
      },
      "source": [
        "<a href=\"https://colab.research.google.com/github/icestorm3015/class2022spring/blob/main/20220316.ipynb\" target=\"_parent\"><img src=\"https://colab.research.google.com/assets/colab-badge.svg\" alt=\"Open In Colab\"/></a>"
      ]
    },
    {
      "cell_type": "markdown",
      "source": [
        "20220316 과제 겸 복습 페이지"
      ],
      "metadata": {
        "id": "SNrO3UmsErva"
      }
    },
    {
      "cell_type": "markdown",
      "source": [
        "**파이썬에서 중요한 것**\n",
        "1. 변수 (variables)\n",
        "2. 문법 (syntax)\n",
        " 1) 조건문 if\n",
        " 2) 반복문 for\n",
        "3. 함수 (function)\n",
        "4. 패키지(packages, import) = 다른 프로그래밍 언어에서 library 와 같음"
      ],
      "metadata": {
        "id": "LlQILeVkeJr5"
      }
    },
    {
      "cell_type": "markdown",
      "source": [
        "**변수의 종류**\n",
        "1. numbers - 정수 int, 실수 float (소수점 있으면 float e.g. 1.1 or 1.0 etc)\n",
        "2. string : 문자열\n",
        "3. list [, , ,] - num, string, list 등등 들어갈 수 있음\n",
        "4. tuple (, , ,) - list와 유사. 차이점: list는 내용물 변경 가능하지만 튜플은 불가. \n",
        "예) a = (1,2,3) ; a[1] --> 실행 X\n",
        "print (a[1] + a[2]) --> 5. 실행 O\n",
        "5. dict : {key : value}"
      ],
      "metadata": {
        "id": "xDq9VwB5e67f"
      }
    },
    {
      "cell_type": "markdown",
      "source": [
        "변수의 종류 알아보기"
      ],
      "metadata": {
        "id": "08KB8Oa1h_cc"
      }
    },
    {
      "cell_type": "code",
      "source": [
        "# type() : variable의 class를 알려주는 함수\n",
        "a=1; print(type(a))"
      ],
      "metadata": {
        "colab": {
          "base_uri": "https://localhost:8080/"
        },
        "id": "o2gYd3uOhUAK",
        "outputId": "ef91b039-f822-4977-e1fe-b4daf9f32a00"
      },
      "execution_count": 1,
      "outputs": [
        {
          "output_type": "stream",
          "name": "stdout",
          "text": [
            "<class 'int'>\n"
          ]
        }
      ]
    },
    {
      "cell_type": "code",
      "source": [
        "a=1.1 ; print(type(a))"
      ],
      "metadata": {
        "colab": {
          "base_uri": "https://localhost:8080/"
        },
        "id": "iuUYGcxFeuiA",
        "outputId": "c1d2f43b-0239-474b-8e13-4e0d972a5192"
      },
      "execution_count": 2,
      "outputs": [
        {
          "output_type": "stream",
          "name": "stdout",
          "text": [
            "<class 'float'>\n"
          ]
        }
      ]
    },
    {
      "cell_type": "code",
      "execution_count": 3,
      "metadata": {
        "id": "qOS1p39wEh3T",
        "colab": {
          "base_uri": "https://localhost:8080/"
        },
        "outputId": "d9c1cef6-b83f-4301-96fe-ee82efca8b48"
      },
      "outputs": [
        {
          "output_type": "stream",
          "name": "stdout",
          "text": [
            "<class 'float'>\n"
          ]
        }
      ],
      "source": [
        "a=1.0 ; print(type(a))"
      ]
    },
    {
      "cell_type": "code",
      "source": [
        "a='123' ; print(type(a))"
      ],
      "metadata": {
        "colab": {
          "base_uri": "https://localhost:8080/"
        },
        "id": "y2955y7xjHAw",
        "outputId": "9704b3a6-9a00-4170-8c7d-55dc5313e418"
      },
      "execution_count": 4,
      "outputs": [
        {
          "output_type": "stream",
          "name": "stdout",
          "text": [
            "<class 'str'>\n"
          ]
        }
      ]
    },
    {
      "cell_type": "code",
      "source": [
        "a='helloworld' ; print(type(a))"
      ],
      "metadata": {
        "colab": {
          "base_uri": "https://localhost:8080/"
        },
        "id": "3VVm6x2GjQ-I",
        "outputId": "83829fd6-1c0c-4772-d50a-df17a5eba3f2"
      },
      "execution_count": 5,
      "outputs": [
        {
          "output_type": "stream",
          "name": "stdout",
          "text": [
            "<class 'str'>\n"
          ]
        }
      ]
    },
    {
      "cell_type": "code",
      "source": [
        "a = [1,2,3,4]\n",
        "print(type(a))"
      ],
      "metadata": {
        "colab": {
          "base_uri": "https://localhost:8080/"
        },
        "id": "wwO64vc2jYy1",
        "outputId": "6f5b0f04-d493-40db-877d-932488d60c0d"
      },
      "execution_count": 6,
      "outputs": [
        {
          "output_type": "stream",
          "name": "stdout",
          "text": [
            "<class 'list'>\n"
          ]
        }
      ]
    },
    {
      "cell_type": "markdown",
      "source": [
        "Indexing 알아보기"
      ],
      "metadata": {
        "id": "8nRpewX7jcA-"
      }
    },
    {
      "cell_type": "code",
      "source": [
        "a=[1,2,3,4,5,6,7,8,9,10]\n",
        "print(a[0])\n",
        "print(a[1])\n",
        "print(a[9])"
      ],
      "metadata": {
        "colab": {
          "base_uri": "https://localhost:8080/"
        },
        "id": "19BLORcbjzRU",
        "outputId": "1f4bf8e2-f6cf-414a-e348-7a3005ae1781"
      },
      "execution_count": 7,
      "outputs": [
        {
          "output_type": "stream",
          "name": "stdout",
          "text": [
            "1\n",
            "2\n",
            "10\n"
          ]
        }
      ]
    },
    {
      "cell_type": "code",
      "source": [
        "print(a[10])"
      ],
      "metadata": {
        "colab": {
          "base_uri": "https://localhost:8080/",
          "height": 172
        },
        "id": "Vcdql2PQkMRl",
        "outputId": "0dad906e-c1be-4c56-d7b7-4cd7e06ed1f9"
      },
      "execution_count": 8,
      "outputs": [
        {
          "output_type": "error",
          "ename": "IndexError",
          "evalue": "ignored",
          "traceback": [
            "\u001b[0;31m---------------------------------------------------------------------------\u001b[0m",
            "\u001b[0;31mIndexError\u001b[0m                                Traceback (most recent call last)",
            "\u001b[0;32m<ipython-input-8-45a6398849db>\u001b[0m in \u001b[0;36m<module>\u001b[0;34m()\u001b[0m\n\u001b[0;32m----> 1\u001b[0;31m \u001b[0mprint\u001b[0m\u001b[0;34m(\u001b[0m\u001b[0ma\u001b[0m\u001b[0;34m[\u001b[0m\u001b[0;36m10\u001b[0m\u001b[0;34m]\u001b[0m\u001b[0;34m)\u001b[0m\u001b[0;34m\u001b[0m\u001b[0;34m\u001b[0m\u001b[0m\n\u001b[0m",
            "\u001b[0;31mIndexError\u001b[0m: list index out of range"
          ]
        }
      ]
    },
    {
      "cell_type": "code",
      "source": [
        "print(a[-1])\n",
        "print(a[-2])"
      ],
      "metadata": {
        "colab": {
          "base_uri": "https://localhost:8080/"
        },
        "id": "AGNoAQzAkT7F",
        "outputId": "954c4280-de33-4e52-a433-9d3e2ad4ac54"
      },
      "execution_count": 9,
      "outputs": [
        {
          "output_type": "stream",
          "name": "stdout",
          "text": [
            "10\n",
            "9\n"
          ]
        }
      ]
    },
    {
      "cell_type": "code",
      "source": [
        "#indexing은 왼쪽에서는 0 으로 시작, 오른쪽에서는 -1 로 시작"
      ],
      "metadata": {
        "id": "4Fyc8JN3kcoP"
      },
      "execution_count": null,
      "outputs": []
    },
    {
      "cell_type": "code",
      "source": [
        "#indexing 의미: 0에서 5 하나 이전꺼 까지\n",
        "print(a[0:5])"
      ],
      "metadata": {
        "colab": {
          "base_uri": "https://localhost:8080/"
        },
        "id": "pd7P_TQrlMjc",
        "outputId": "e4ccd010-2164-49da-83fa-b8a5be69fe58"
      },
      "execution_count": 13,
      "outputs": [
        {
          "output_type": "stream",
          "name": "stdout",
          "text": [
            "[1, 2, 3, 4, 5]\n"
          ]
        }
      ]
    },
    {
      "cell_type": "code",
      "source": [
        "#indexing 의미: 3번째꺼에서 끝까지 / 처음부터 7번째꺼 이전까지\n",
        "print(a[3:])\n",
        "print(a[:7])"
      ],
      "metadata": {
        "colab": {
          "base_uri": "https://localhost:8080/"
        },
        "id": "mXmKDqAzlftU",
        "outputId": "aaf81c28-76b0-4005-ef7b-8409c298c84e"
      },
      "execution_count": 14,
      "outputs": [
        {
          "output_type": "stream",
          "name": "stdout",
          "text": [
            "[4, 5, 6, 7, 8, 9, 10]\n",
            "[1, 2, 3, 4, 5, 6, 7]\n"
          ]
        }
      ]
    },
    {
      "cell_type": "code",
      "source": [
        "b=[1, 'a', [7,8]]\n",
        "print(type(b))\n",
        "print(b[2])"
      ],
      "metadata": {
        "colab": {
          "base_uri": "https://localhost:8080/"
        },
        "id": "JJYBKzhymL6X",
        "outputId": "bb1339a9-96a3-4d53-a624-4b5f7131858c"
      },
      "execution_count": 15,
      "outputs": [
        {
          "output_type": "stream",
          "name": "stdout",
          "text": [
            "<class 'list'>\n",
            "[7, 8]\n"
          ]
        }
      ]
    },
    {
      "cell_type": "code",
      "source": [
        "#리스트의 한 변수가 리스트일 때, 그 안에서 indexing 하는 방법\n",
        "b[2][1]"
      ],
      "metadata": {
        "colab": {
          "base_uri": "https://localhost:8080/"
        },
        "id": "XqrBAjwcmkru",
        "outputId": "807aa7b0-b7f3-4ccc-cce5-da05fc578eff"
      },
      "execution_count": 17,
      "outputs": [
        {
          "output_type": "execute_result",
          "data": {
            "text/plain": [
              "8"
            ]
          },
          "metadata": {},
          "execution_count": 17
        }
      ]
    },
    {
      "cell_type": "code",
      "source": [
        "#string의 indexing도 list와 동일\n",
        "z='abcdef123'\n",
        "print(type(z))\n",
        "print(z[2:5])\n",
        "print(z[2:-4])"
      ],
      "metadata": {
        "colab": {
          "base_uri": "https://localhost:8080/"
        },
        "id": "EFKbVKJ2m6D9",
        "outputId": "a79cf794-30a1-4b75-f6fe-ba9776d89425"
      },
      "execution_count": 19,
      "outputs": [
        {
          "output_type": "stream",
          "name": "stdout",
          "text": [
            "<class 'str'>\n",
            "cde\n",
            "cde\n"
          ]
        }
      ]
    },
    {
      "cell_type": "code",
      "source": [
        "#dict의 성질\n",
        "g={'a': 'apple', 'b': 'orange', 'c': 111}\n",
        "print(type(g))"
      ],
      "metadata": {
        "colab": {
          "base_uri": "https://localhost:8080/"
        },
        "id": "3sAOIOMWnnnc",
        "outputId": "b575e7e9-de90-4c20-9e77-ae85f5f1a379"
      },
      "execution_count": 21,
      "outputs": [
        {
          "output_type": "stream",
          "name": "stdout",
          "text": [
            "<class 'dict'>\n"
          ]
        }
      ]
    },
    {
      "cell_type": "code",
      "source": [
        "#dict의 indexing은 다름\n",
        "g[0:2]"
      ],
      "metadata": {
        "colab": {
          "base_uri": "https://localhost:8080/",
          "height": 190
        },
        "id": "GfEsNEnLoGsp",
        "outputId": "885bb5d3-feea-42fa-b593-55099a09663a"
      },
      "execution_count": 23,
      "outputs": [
        {
          "output_type": "error",
          "ename": "TypeError",
          "evalue": "ignored",
          "traceback": [
            "\u001b[0;31m---------------------------------------------------------------------------\u001b[0m",
            "\u001b[0;31mTypeError\u001b[0m                                 Traceback (most recent call last)",
            "\u001b[0;32m<ipython-input-23-99ca5c082585>\u001b[0m in \u001b[0;36m<module>\u001b[0;34m()\u001b[0m\n\u001b[1;32m      1\u001b[0m \u001b[0;31m#dict의 indexing은 다름\u001b[0m\u001b[0;34m\u001b[0m\u001b[0;34m\u001b[0m\u001b[0;34m\u001b[0m\u001b[0m\n\u001b[0;32m----> 2\u001b[0;31m \u001b[0mg\u001b[0m\u001b[0;34m[\u001b[0m\u001b[0;36m0\u001b[0m\u001b[0;34m:\u001b[0m\u001b[0;36m2\u001b[0m\u001b[0;34m]\u001b[0m\u001b[0;34m\u001b[0m\u001b[0;34m\u001b[0m\u001b[0m\n\u001b[0m",
            "\u001b[0;31mTypeError\u001b[0m: unhashable type: 'slice'"
          ]
        }
      ]
    },
    {
      "cell_type": "code",
      "source": [
        "print(g['a'])\n",
        "print(g['c'])"
      ],
      "metadata": {
        "colab": {
          "base_uri": "https://localhost:8080/"
        },
        "id": "Yxpsyp3CoQEr",
        "outputId": "e0bfb81c-10fa-4de9-cac2-547df11f3a63"
      },
      "execution_count": 25,
      "outputs": [
        {
          "output_type": "stream",
          "name": "stdout",
          "text": [
            "apple\n",
            "111\n"
          ]
        }
      ]
    },
    {
      "cell_type": "markdown",
      "source": [
        "함수 function\n",
        "\n",
        "입력값과 출력값이 있음, 괄호가 있어야 함\n",
        "\n",
        "built-in function : 내장된 함수"
      ],
      "metadata": {
        "id": "8P0uDo-grqpl"
      }
    },
    {
      "cell_type": "code",
      "source": [
        "#len() 함수: length 길이\n",
        "c='abcdefgh123'\n",
        "len(c)"
      ],
      "metadata": {
        "colab": {
          "base_uri": "https://localhost:8080/"
        },
        "id": "FRuTqzxOqzz1",
        "outputId": "3200a70f-d273-4233-fac6-3d7a29b9a733"
      },
      "execution_count": 26,
      "outputs": [
        {
          "output_type": "execute_result",
          "data": {
            "text/plain": [
              "11"
            ]
          },
          "metadata": {},
          "execution_count": 26
        }
      ]
    },
    {
      "cell_type": "code",
      "source": [
        "print(len('blue'))\n",
        "len('abc123')"
      ],
      "metadata": {
        "colab": {
          "base_uri": "https://localhost:8080/"
        },
        "id": "6MgwEVOx8MxO",
        "outputId": "9c68dd26-2e0b-4e46-83ea-4229e654ca04"
      },
      "execution_count": 52,
      "outputs": [
        {
          "output_type": "stream",
          "name": "stdout",
          "text": [
            "4\n"
          ]
        },
        {
          "output_type": "execute_result",
          "data": {
            "text/plain": [
              "6"
            ]
          },
          "metadata": {},
          "execution_count": 52
        }
      ]
    },
    {
      "cell_type": "code",
      "source": [
        "#indexing 한 걸로도 더하거나 곱할 수 있음\n",
        "c[1] + c[3]+ c[-2:]*5"
      ],
      "metadata": {
        "colab": {
          "base_uri": "https://localhost:8080/",
          "height": 35
        },
        "id": "bVR9HyPXsAkQ",
        "outputId": "27d09775-572d-4a3e-b3a5-644e83f89a75"
      },
      "execution_count": 28,
      "outputs": [
        {
          "output_type": "execute_result",
          "data": {
            "text/plain": [
              "'bd2323232323'"
            ],
            "application/vnd.google.colaboratory.intrinsic+json": {
              "type": "string"
            }
          },
          "metadata": {},
          "execution_count": 28
        }
      ]
    },
    {
      "cell_type": "code",
      "source": [
        "#.upper()\n",
        "# c를 대문자로 만듦\n",
        "c.upper()"
      ],
      "metadata": {
        "colab": {
          "base_uri": "https://localhost:8080/",
          "height": 35
        },
        "id": "Q_GqY8SAt_6z",
        "outputId": "0ef28a6e-15fe-455d-cab7-a7d37345d8e8"
      },
      "execution_count": 32,
      "outputs": [
        {
          "output_type": "execute_result",
          "data": {
            "text/plain": [
              "'ABCDEFGH123'"
            ],
            "application/vnd.google.colaboratory.intrinsic+json": {
              "type": "string"
            }
          },
          "metadata": {},
          "execution_count": 32
        }
      ]
    },
    {
      "cell_type": "code",
      "source": [
        "s = ' this is a house built this year.\\n'\n",
        "s"
      ],
      "metadata": {
        "colab": {
          "base_uri": "https://localhost:8080/",
          "height": 35
        },
        "id": "rmXszAPcuNdP",
        "outputId": "cd3814f2-c5fe-4152-fef8-d0cd291f5891"
      },
      "execution_count": 41,
      "outputs": [
        {
          "output_type": "execute_result",
          "data": {
            "text/plain": [
              "' this is a house built this year.\\n'"
            ],
            "application/vnd.google.colaboratory.intrinsic+json": {
              "type": "string"
            }
          },
          "metadata": {},
          "execution_count": 41
        }
      ]
    },
    {
      "cell_type": "code",
      "source": [
        "# .find()\n",
        "# result 는 s에서 'house'가 등장하는 자리값\n",
        "result = s.find('house')\n",
        "result"
      ],
      "metadata": {
        "colab": {
          "base_uri": "https://localhost:8080/"
        },
        "id": "27GQvaX8udbr",
        "outputId": "dee01f62-c0b9-4304-bc25-b441c8440d2e"
      },
      "execution_count": 38,
      "outputs": [
        {
          "output_type": "execute_result",
          "data": {
            "text/plain": [
              "11"
            ]
          },
          "metadata": {},
          "execution_count": 38
        }
      ]
    },
    {
      "cell_type": "code",
      "source": [
        "# 스페이스바도 한 자리로 친다, 'this'가 2개 있는데 그 중 첫번째\n",
        "result = s.find('this')\n",
        "result"
      ],
      "metadata": {
        "colab": {
          "base_uri": "https://localhost:8080/"
        },
        "id": "J2iidzoYuthO",
        "outputId": "c6aed66f-a279-4aef-d48d-34a23b52781d"
      },
      "execution_count": 35,
      "outputs": [
        {
          "output_type": "execute_result",
          "data": {
            "text/plain": [
              "1"
            ]
          },
          "metadata": {},
          "execution_count": 35
        }
      ]
    },
    {
      "cell_type": "code",
      "source": [
        "# .strip()\n",
        "# s는 s의 내용물 중 trailing white space들을 지운 것 --> 맨앞의 스페이스바와 마지막에 있던 것 삭제\n",
        "s = s.strip()\n",
        "s"
      ],
      "metadata": {
        "colab": {
          "base_uri": "https://localhost:8080/",
          "height": 35
        },
        "id": "LVVjE3_yutVt",
        "outputId": "43890e8f-eb2c-4536-b4b5-6db827864386"
      },
      "execution_count": 43,
      "outputs": [
        {
          "output_type": "execute_result",
          "data": {
            "text/plain": [
              "'this is a house built this year.'"
            ],
            "application/vnd.google.colaboratory.intrinsic+json": {
              "type": "string"
            }
          },
          "metadata": {},
          "execution_count": 43
        }
      ]
    },
    {
      "cell_type": "code",
      "source": [
        "# .split()\n",
        "# s를 ' '을 중심으로 쪼개서 list로 만들기\n",
        "tokens = s.split(' ')\n",
        "tokens"
      ],
      "metadata": {
        "colab": {
          "base_uri": "https://localhost:8080/"
        },
        "id": "FHDvIzmKv21H",
        "outputId": "8fd7a4cc-ec81-44b7-81d4-520aceb45bd0"
      },
      "execution_count": 44,
      "outputs": [
        {
          "output_type": "execute_result",
          "data": {
            "text/plain": [
              "['this', 'is', 'a', 'house', 'built', 'this', 'year.']"
            ]
          },
          "metadata": {},
          "execution_count": 44
        }
      ]
    },
    {
      "cell_type": "code",
      "source": [
        "# .join()\n",
        "# 연결하여 str으로 만들기\n",
        "s = ' '.join(tokens)\n",
        "s"
      ],
      "metadata": {
        "colab": {
          "base_uri": "https://localhost:8080/",
          "height": 35
        },
        "id": "-6SP1qQhwJeS",
        "outputId": "d07bdb9c-d5e2-4a04-d936-a8cfd3baf517"
      },
      "execution_count": 45,
      "outputs": [
        {
          "output_type": "execute_result",
          "data": {
            "text/plain": [
              "'this is a house built this year.'"
            ],
            "application/vnd.google.colaboratory.intrinsic+json": {
              "type": "string"
            }
          },
          "metadata": {},
          "execution_count": 45
        }
      ]
    },
    {
      "cell_type": "code",
      "source": [
        "# .join() 의 특성\n",
        "s1='o'.join(tokens)\n",
        "s1"
      ],
      "metadata": {
        "colab": {
          "base_uri": "https://localhost:8080/",
          "height": 35
        },
        "id": "khAYMbf5wiYD",
        "outputId": "2a3dc148-e41c-439e-dab5-c25759b24504"
      },
      "execution_count": 47,
      "outputs": [
        {
          "output_type": "execute_result",
          "data": {
            "text/plain": [
              "'thisoisoaohouseobuiltothisoyear.'"
            ],
            "application/vnd.google.colaboratory.intrinsic+json": {
              "type": "string"
            }
          },
          "metadata": {},
          "execution_count": 47
        }
      ]
    },
    {
      "cell_type": "code",
      "source": [
        "# .replace()\n",
        "# 'this'를 'that' 으로 대체\n",
        "s=s.replace('this','that')\n",
        "s"
      ],
      "metadata": {
        "colab": {
          "base_uri": "https://localhost:8080/",
          "height": 35
        },
        "id": "Ed59x4z9xHMI",
        "outputId": "efd764c5-0825-4f5a-9b5c-cb88953e81a8"
      },
      "execution_count": 48,
      "outputs": [
        {
          "output_type": "execute_result",
          "data": {
            "text/plain": [
              "'that is a house built that year.'"
            ],
            "application/vnd.google.colaboratory.intrinsic+json": {
              "type": "string"
            }
          },
          "metadata": {},
          "execution_count": 48
        }
      ]
    },
    {
      "cell_type": "markdown",
      "source": [
        "**함수 만들기**\n",
        "\n",
        "def 함수명 (입력변수1, 입력변수2) :\n",
        "\n",
        "return 출력변수1, 출력변수2"
      ],
      "metadata": {
        "id": "bmW-SF5fyMtp"
      }
    },
    {
      "cell_type": "code",
      "source": [
        "def add(a,b):\n",
        "  return a+b\n",
        "\n",
        "def minus(a,b):\n",
        "  return a-b\n",
        "\n",
        "def multi(a,b):\n",
        "  return a*b\n",
        "\n",
        "def divi(a,b):\n",
        "  return a/b"
      ],
      "metadata": {
        "id": "AtqA5-yc9Hlx"
      },
      "execution_count": 53,
      "outputs": []
    },
    {
      "cell_type": "code",
      "source": [
        "# 위 방법과 이 방법이 모두 같은 의미\n",
        "def add(a,b):\n",
        "  c = a+b\n",
        "  return c"
      ],
      "metadata": {
        "id": "o6he3iZq9l_2"
      },
      "execution_count": 55,
      "outputs": []
    },
    {
      "cell_type": "code",
      "source": [
        "c= add(1,2); print(c)\n",
        "c= minus(1,2); print(c)\n",
        "c= multi(1,2); print(c)\n",
        "c= divi(1,2) ; print (c)"
      ],
      "metadata": {
        "colab": {
          "base_uri": "https://localhost:8080/"
        },
        "id": "Sbe4ld4_9z8Q",
        "outputId": "b5965872-b9b8-4150-98c8-aa28f012406f"
      },
      "execution_count": 56,
      "outputs": [
        {
          "output_type": "stream",
          "name": "stdout",
          "text": [
            "3\n",
            "-1\n",
            "2\n",
            "0.5\n"
          ]
        }
      ]
    },
    {
      "cell_type": "markdown",
      "source": [
        "**Syntax 알아보기: for, if**"
      ],
      "metadata": {
        "id": "hNoAXgoj-PzC"
      }
    },
    {
      "cell_type": "markdown",
      "source": [
        "반복문 for\n",
        "\n",
        "for i in a:\n",
        "\n",
        "(띄우기) _____________________\n",
        "\n",
        "\n",
        "- 첫줄의 의미: a 에 있는 것들을 i로 처음부터 하나씩 받아서 실행한다 (for-loop)"
      ],
      "metadata": {
        "id": "VyTPK0p7-Zzc"
      }
    },
    {
      "cell_type": "code",
      "source": [
        "a= [1,2,3,4]\n",
        "for i in a:\n",
        "  print(i)"
      ],
      "metadata": {
        "colab": {
          "base_uri": "https://localhost:8080/"
        },
        "id": "uUL8ZNHd-xo7",
        "outputId": "e94747f3-d69a-453d-bbf0-c2cd2503c923"
      },
      "execution_count": 57,
      "outputs": [
        {
          "output_type": "stream",
          "name": "stdout",
          "text": [
            "1\n",
            "2\n",
            "3\n",
            "4\n"
          ]
        }
      ]
    },
    {
      "cell_type": "markdown",
      "source": [
        "range()\n",
        "\n",
        "--> range 안에 list가 만들어짐\n",
        "\n",
        "예) range(4) : [0,1,2,3]"
      ],
      "metadata": {
        "id": "Z0nyHN46_r-q"
      }
    },
    {
      "cell_type": "code",
      "source": [
        "# range(len(a)) 또는 range(4)\n",
        "a = [1,2,3,4]\n",
        "for i in range(len(a)):\n",
        "  print(a[i])"
      ],
      "metadata": {
        "colab": {
          "base_uri": "https://localhost:8080/"
        },
        "id": "LCuCKAV6_S_p",
        "outputId": "a4f475f9-c606-401c-d1a0-62713c2e1ce9"
      },
      "execution_count": 58,
      "outputs": [
        {
          "output_type": "stream",
          "name": "stdout",
          "text": [
            "1\n",
            "2\n",
            "3\n",
            "4\n"
          ]
        }
      ]
    },
    {
      "cell_type": "code",
      "source": [
        "a = ['red', 'green', 'blue', 'purple']\n",
        "for i in a:\n",
        "  print(i)"
      ],
      "metadata": {
        "colab": {
          "base_uri": "https://localhost:8080/"
        },
        "id": "IXBvyPKgATxp",
        "outputId": "cada2432-1f8e-4782-f16a-2440715a02f8"
      },
      "execution_count": 59,
      "outputs": [
        {
          "output_type": "stream",
          "name": "stdout",
          "text": [
            "red\n",
            "green\n",
            "blue\n",
            "purple\n"
          ]
        }
      ]
    },
    {
      "cell_type": "code",
      "source": [
        "a = ['red', 'green', 'blue', 'purple']\n",
        "for i in range(len(a)):\n",
        "  print(a[i])"
      ],
      "metadata": {
        "colab": {
          "base_uri": "https://localhost:8080/"
        },
        "id": "CCk2aLrRAx18",
        "outputId": "1a534e8b-e8e0-49f3-b8ab-8fad69147b4f"
      },
      "execution_count": 60,
      "outputs": [
        {
          "output_type": "stream",
          "name": "stdout",
          "text": [
            "red\n",
            "green\n",
            "blue\n",
            "purple\n"
          ]
        }
      ]
    },
    {
      "cell_type": "markdown",
      "source": [
        "조건문 if\n",
        "\n",
        "if _____________:\n",
        "\n",
        "(띄어쓰기) _____________\n",
        "\n",
        "else:\n",
        "\n",
        "(띄어쓰기) _______"
      ],
      "metadata": {
        "id": "1ObhjpayBEem"
      }
    },
    {
      "cell_type": "code",
      "source": [
        "# == : 같다, != : 다르다, a >= b: a가 b보다 크거나 같다"
      ],
      "metadata": {
        "id": "0iOYg73pBfBL"
      },
      "execution_count": null,
      "outputs": []
    },
    {
      "cell_type": "code",
      "source": [
        "a=0\n",
        "if a == 0:\n",
        "  print(a+1)\n",
        "else:\n",
        "  print('false')"
      ],
      "metadata": {
        "colab": {
          "base_uri": "https://localhost:8080/"
        },
        "id": "9ZuxlO7bBopd",
        "outputId": "cdea55d6-11fa-46da-80d7-08002cba41a7"
      },
      "execution_count": 62,
      "outputs": [
        {
          "output_type": "stream",
          "name": "stdout",
          "text": [
            "1\n"
          ]
        }
      ]
    },
    {
      "cell_type": "code",
      "source": [
        "a = 240\n",
        "if a != 0:\n",
        "  print('wow')\n",
        "else:\n",
        "  print('zero')"
      ],
      "metadata": {
        "colab": {
          "base_uri": "https://localhost:8080/"
        },
        "id": "xGTbWTqZBDUU",
        "outputId": "b114809b-b3b7-42c3-bcd3-9aef68847f73"
      },
      "execution_count": 63,
      "outputs": [
        {
          "output_type": "stream",
          "name": "stdout",
          "text": [
            "wow\n"
          ]
        }
      ]
    },
    {
      "cell_type": "code",
      "source": [
        "# range(1,3) : [1,2], range(3,5) :[3,4]\n",
        "# i*j 순서: 1*3, 1*4, 2*3, 2*4\n",
        "for i in range(1,3):\n",
        "  for j in range(3,5):\n",
        "    print(i*j)"
      ],
      "metadata": {
        "colab": {
          "base_uri": "https://localhost:8080/"
        },
        "id": "c9TA0Bv9CfWX",
        "outputId": "912c2feb-1565-4af3-96db-27f13786a574"
      },
      "execution_count": 64,
      "outputs": [
        {
          "output_type": "stream",
          "name": "stdout",
          "text": [
            "3\n",
            "4\n",
            "6\n",
            "8\n"
          ]
        }
      ]
    },
    {
      "cell_type": "code",
      "source": [
        "for i in range(1,3):\n",
        "  for j in range(3,5):\n",
        "    if j>=4:\n",
        "      print(i*j)"
      ],
      "metadata": {
        "colab": {
          "base_uri": "https://localhost:8080/"
        },
        "id": "96O5RqIJC_iV",
        "outputId": "3c8a3d55-c96d-4a02-9526-e4a7af5d1b54"
      },
      "execution_count": 65,
      "outputs": [
        {
          "output_type": "stream",
          "name": "stdout",
          "text": [
            "4\n",
            "8\n"
          ]
        }
      ]
    },
    {
      "cell_type": "markdown",
      "source": [
        "List Comprehension"
      ],
      "metadata": {
        "id": "0eKsMZbpDThT"
      }
    },
    {
      "cell_type": "code",
      "source": [
        "# a의 1이 for i의 i로 들어갔다가 i>=2로 들어갔다가 맨 앞의 i로/ 그다음 loop\n",
        "a = [1,2,3,4]\n",
        "b = [i for i in a if i>=2]\n",
        "b"
      ],
      "metadata": {
        "colab": {
          "base_uri": "https://localhost:8080/"
        },
        "id": "Mnth34l1DKZD",
        "outputId": "fdd830d6-7153-45fa-c3ca-829ba1cdc2b7"
      },
      "execution_count": 66,
      "outputs": [
        {
          "output_type": "execute_result",
          "data": {
            "text/plain": [
              "[2, 3, 4]"
            ]
          },
          "metadata": {},
          "execution_count": 66
        }
      ]
    },
    {
      "cell_type": "code",
      "source": [
        "a=['red', 'green', 'blue', 'purple']\n",
        "b=[i for i in a if len(i) >=4]\n",
        "b"
      ],
      "metadata": {
        "colab": {
          "base_uri": "https://localhost:8080/"
        },
        "id": "-kGV50b4D6Vh",
        "outputId": "f20e3d5b-540a-441a-8fa4-6c656f15bbac"
      },
      "execution_count": 67,
      "outputs": [
        {
          "output_type": "execute_result",
          "data": {
            "text/plain": [
              "['green', 'blue', 'purple']"
            ]
          },
          "metadata": {},
          "execution_count": 67
        }
      ]
    },
    {
      "cell_type": "markdown",
      "source": [
        "Dict Comprehension"
      ],
      "metadata": {
        "id": "lmlrq8_uDWOX"
      }
    },
    {
      "cell_type": "code",
      "source": [
        "#dict에서 순서는 중요하지 않음\n",
        "a = ['red', 'green', 'blue', 'purple']\n",
        "b= [1,2,3,4]\n",
        "c= {a[i]: b[i] for i in range(4)}\n",
        "c"
      ],
      "metadata": {
        "colab": {
          "base_uri": "https://localhost:8080/"
        },
        "id": "LPROVDG-EGQ_",
        "outputId": "eaa90972-ad6c-4d28-a764-15748a5590e3"
      },
      "execution_count": 69,
      "outputs": [
        {
          "output_type": "execute_result",
          "data": {
            "text/plain": [
              "{'blue': 3, 'green': 2, 'purple': 4, 'red': 1}"
            ]
          },
          "metadata": {},
          "execution_count": 69
        }
      ]
    },
    {
      "cell_type": "markdown",
      "source": [
        "Import\n",
        "\n",
        "package를 import: RAM에 올리기 위해 \n",
        "\n"
      ],
      "metadata": {
        "id": "eOMlQqeEErUf"
      }
    },
    {
      "cell_type": "code",
      "source": [
        "import numpy"
      ],
      "metadata": {
        "id": "FPKp9_YOLr5f"
      },
      "execution_count": 1,
      "outputs": []
    },
    {
      "cell_type": "code",
      "source": [
        "# numpy 속 random 파일 속 함수\n",
        "# .randn() : 랜덤넘버 만들기, 0을 mean값, standard deviation: 1\n",
        "numpy.random.randn(5)"
      ],
      "metadata": {
        "id": "4qXqOZdWLu4K",
        "outputId": "fc973eb2-92bc-46da-c967-747baa3cf768",
        "colab": {
          "base_uri": "https://localhost:8080/"
        }
      },
      "execution_count": 2,
      "outputs": [
        {
          "output_type": "execute_result",
          "data": {
            "text/plain": [
              "array([-1.34564483,  1.58169553, -0.69270684, -1.10839561, -0.89135981])"
            ]
          },
          "metadata": {},
          "execution_count": 2
        }
      ]
    },
    {
      "cell_type": "code",
      "source": [
        "# numpy가 너무 기니까 np 로 쓰기\n",
        "import numpy as np\n",
        "n = np.random.randn(100)"
      ],
      "metadata": {
        "id": "WXK-hRoWO0Yo"
      },
      "execution_count": 4,
      "outputs": []
    },
    {
      "cell_type": "code",
      "source": [
        "# .hist() : 히스토그램 만들기\n",
        "import matplotlib\n",
        "matplotlib.pyplot.hist(n)"
      ],
      "metadata": {
        "id": "aqXOEvrNRfta",
        "outputId": "72d97dfd-b75e-4b41-d5bc-610d88a8520d",
        "colab": {
          "base_uri": "https://localhost:8080/",
          "height": 356
        }
      },
      "execution_count": 5,
      "outputs": [
        {
          "output_type": "execute_result",
          "data": {
            "text/plain": [
              "(array([ 1.,  1.,  9., 12., 13., 21., 12., 15.,  9.,  7.]),\n",
              " array([-2.87361403, -2.4209666 , -1.96831918, -1.51567176, -1.06302433,\n",
              "        -0.61037691, -0.15772948,  0.29491794,  0.74756537,  1.20021279,\n",
              "         1.65286021]),\n",
              " <a list of 10 Patch objects>)"
            ]
          },
          "metadata": {},
          "execution_count": 5
        },
        {
          "output_type": "display_data",
          "data": {
            "text/plain": [
              "<Figure size 432x288 with 1 Axes>"
            ],
            "image/png": "[encoded data removed]"
          },
          "metadata": {
            "needs_background": "light"
          }
        }
      ]
    },
    {
      "cell_type": "code",
      "source": [
        "# 이렇게 써도 됨\n",
        "import matplotlib.pyplot\n",
        "matplotlib.pyplot.hist(n)"
      ],
      "metadata": {
        "id": "J8rIQHLSSL6V",
        "outputId": "9df9c119-3778-4a77-bf82-58f629be795c",
        "colab": {
          "base_uri": "https://localhost:8080/",
          "height": 356
        }
      },
      "execution_count": 7,
      "outputs": [
        {
          "output_type": "execute_result",
          "data": {
            "text/plain": [
              "(array([ 1.,  1.,  9., 12., 13., 21., 12., 15.,  9.,  7.]),\n",
              " array([-2.87361403, -2.4209666 , -1.96831918, -1.51567176, -1.06302433,\n",
              "        -0.61037691, -0.15772948,  0.29491794,  0.74756537,  1.20021279,\n",
              "         1.65286021]),\n",
              " <a list of 10 Patch objects>)"
            ]
          },
          "metadata": {},
          "execution_count": 7
        },
        {
          "output_type": "display_data",
          "data": {
            "text/plain": [
              "<Figure size 432x288 with 1 Axes>"
            ],
            "image/png": "[encoded data removed]"
          },
          "metadata": {
            "needs_background": "light"
          }
        }
      ]
    },
    {
      "cell_type": "code",
      "source": [
        "# 같은 표기, 짧게 쓸 수 있음\n",
        "import matplotlib.pyplot as plt\n",
        "plt.hist(n)"
      ],
      "metadata": {
        "id": "v4hvv0uNSsPI",
        "outputId": "3e2fef6a-3524-43d1-fd91-0b6bfb0faa07",
        "colab": {
          "base_uri": "https://localhost:8080/",
          "height": 356
        }
      },
      "execution_count": 8,
      "outputs": [
        {
          "output_type": "execute_result",
          "data": {
            "text/plain": [
              "(array([ 1.,  1.,  9., 12., 13., 21., 12., 15.,  9.,  7.]),\n",
              " array([-2.87361403, -2.4209666 , -1.96831918, -1.51567176, -1.06302433,\n",
              "        -0.61037691, -0.15772948,  0.29491794,  0.74756537,  1.20021279,\n",
              "         1.65286021]),\n",
              " <a list of 10 Patch objects>)"
            ]
          },
          "metadata": {},
          "execution_count": 8
        },
        {
          "output_type": "display_data",
          "data": {
            "text/plain": [
              "<Figure size 432x288 with 1 Axes>"
            ],
            "image/png": "[encoded data removed]"
          },
          "metadata": {
            "needs_background": "light"
          }
        }
      ]
    },
    {
      "cell_type": "code",
      "source": [
        "# from , import : import as 처럼 축약해서 부를 수 있음\n",
        "from matplotlib import pyplot\n",
        "pyplot.hist(n)"
      ],
      "metadata": {
        "id": "dgYI-V-sTFk2",
        "outputId": "ee061c33-b284-4f3b-96e2-3aaef48fdb02",
        "colab": {
          "base_uri": "https://localhost:8080/",
          "height": 356
        }
      },
      "execution_count": 9,
      "outputs": [
        {
          "output_type": "execute_result",
          "data": {
            "text/plain": [
              "(array([ 1.,  1.,  9., 12., 13., 21., 12., 15.,  9.,  7.]),\n",
              " array([-2.87361403, -2.4209666 , -1.96831918, -1.51567176, -1.06302433,\n",
              "        -0.61037691, -0.15772948,  0.29491794,  0.74756537,  1.20021279,\n",
              "         1.65286021]),\n",
              " <a list of 10 Patch objects>)"
            ]
          },
          "metadata": {},
          "execution_count": 9
        },
        {
          "output_type": "display_data",
          "data": {
            "text/plain": [
              "<Figure size 432x288 with 1 Axes>"
            ],
            "image/png": "[encoded data removed]"
          },
          "metadata": {
            "needs_background": "light"
          }
        }
      ]
    },
    {
      "cell_type": "code",
      "source": [
        "from matplotlib.pyplot import hist\n",
        "hist(n)"
      ],
      "metadata": {
        "id": "Di480OneTYsN",
        "outputId": "f00984bc-e511-450b-c492-46444963a839",
        "colab": {
          "base_uri": "https://localhost:8080/",
          "height": 356
        }
      },
      "execution_count": 10,
      "outputs": [
        {
          "output_type": "execute_result",
          "data": {
            "text/plain": [
              "(array([ 1.,  1.,  9., 12., 13., 21., 12., 15.,  9.,  7.]),\n",
              " array([-2.87361403, -2.4209666 , -1.96831918, -1.51567176, -1.06302433,\n",
              "        -0.61037691, -0.15772948,  0.29491794,  0.74756537,  1.20021279,\n",
              "         1.65286021]),\n",
              " <a list of 10 Patch objects>)"
            ]
          },
          "metadata": {},
          "execution_count": 10
        },
        {
          "output_type": "display_data",
          "data": {
            "text/plain": [
              "<Figure size 432x288 with 1 Axes>"
            ],
            "image/png": "[encoded data removed]"
          },
          "metadata": {
            "needs_background": "light"
          }
        }
      ]
    },
    {
      "cell_type": "markdown",
      "source": [
        "**Nd array 만들기 (matrices)**\n",
        "\n",
        "matrix 행렬\n",
        "\n",
        "n-dimenstional array"
      ],
      "metadata": {
        "id": "Ist6tIOoeFc4"
      }
    },
    {
      "cell_type": "code",
      "source": [
        "import numpy as np"
      ],
      "metadata": {
        "id": "tzLxLyYDeBdR"
      },
      "execution_count": 11,
      "outputs": []
    },
    {
      "cell_type": "code",
      "source": [
        "# np.array() : 리스트를 array로 바꿈\n",
        "x = np.array([1,2,3])\n",
        "print(x)\n",
        "print(type(x))\n",
        "print(x.shape)"
      ],
      "metadata": {
        "id": "ZN0AowAmeXVH",
        "outputId": "fda2f859-8937-4552-e12c-15fddb10a3b1",
        "colab": {
          "base_uri": "https://localhost:8080/"
        }
      },
      "execution_count": 12,
      "outputs": [
        {
          "output_type": "stream",
          "name": "stdout",
          "text": [
            "[1 2 3]\n",
            "<class 'numpy.ndarray'>\n",
            "(3,)\n"
          ]
        }
      ]
    },
    {
      "cell_type": "markdown",
      "source": [
        "(3, ) 의 의미: 3개짜리 1차원 array"
      ],
      "metadata": {
        "id": "_PeJsHkJenTC"
      }
    },
    {
      "cell_type": "code",
      "source": [
        "# np.arange()\n",
        "# np.arange(0,10,2) : 0부터 10까지 2씩 증가. 10은 포함하지 않음!\n",
        "x= np.arange(0,10,2)\n",
        "print(x)\n",
        "print(type(x))\n",
        "print(x.shape)"
      ],
      "metadata": {
        "id": "EJpnbxMbev9B",
        "outputId": "3f1c69ba-2ab8-40ca-e109-84431fdd23d4",
        "colab": {
          "base_uri": "https://localhost:8080/"
        }
      },
      "execution_count": 14,
      "outputs": [
        {
          "output_type": "stream",
          "name": "stdout",
          "text": [
            "[0 2 4 6 8]\n",
            "<class 'numpy.ndarray'>\n",
            "(5,)\n"
          ]
        }
      ]
    },
    {
      "cell_type": "code",
      "source": [
        "# np.linspace() : linear space\n",
        "# np.linspace(0,10,6) : 0부터 10까지 등분을 해서 6개의 숫자 프린트. 10도 포함!\n",
        "x = np.linspace(0,10,6)\n",
        "print(x)\n",
        "print(type(x))\n",
        "print(x.shape)"
      ],
      "metadata": {
        "id": "GSH2gTyQfUp8",
        "outputId": "4d5b2134-a519-43bc-fb16-7edc091829e3",
        "colab": {
          "base_uri": "https://localhost:8080/"
        }
      },
      "execution_count": 15,
      "outputs": [
        {
          "output_type": "stream",
          "name": "stdout",
          "text": [
            "[ 0.  2.  4.  6.  8. 10.]\n",
            "<class 'numpy.ndarray'>\n",
            "(6,)\n"
          ]
        }
      ]
    },
    {
      "cell_type": "code",
      "source": [
        "# 2중 리스트\n",
        "x = np.array([[1,2,3], [4,5,6]])\n",
        "print(x)\n",
        "print(type(x))\n",
        "print(x.shape)"
      ],
      "metadata": {
        "id": "MEp6D4txfv6M",
        "outputId": "cc0c6b1a-38c7-421e-8545-c09acfe87f7b",
        "colab": {
          "base_uri": "https://localhost:8080/"
        }
      },
      "execution_count": 17,
      "outputs": [
        {
          "output_type": "stream",
          "name": "stdout",
          "text": [
            "[[1 2 3]\n",
            " [4 5 6]]\n",
            "<class 'numpy.ndarray'>\n",
            "(2, 3)\n"
          ]
        }
      ]
    },
    {
      "cell_type": "markdown",
      "source": [
        "(2,3)의 의미: (행, 열) : 2D"
      ],
      "metadata": {
        "id": "qoTMbrCBgIW7"
      }
    },
    {
      "cell_type": "code",
      "source": [
        "x= np.array([[[1,2,3], [4,5,6]], [[7,8,9], [10,11,12]]])\n",
        "print(x)\n",
        "print(type(x))\n",
        "print(x.shape)"
      ],
      "metadata": {
        "id": "nz96uEr8gQBD",
        "outputId": "e7d1cbac-10e0-46fe-e7f2-544773ca2321",
        "colab": {
          "base_uri": "https://localhost:8080/"
        }
      },
      "execution_count": 18,
      "outputs": [
        {
          "output_type": "stream",
          "name": "stdout",
          "text": [
            "[[[ 1  2  3]\n",
            "  [ 4  5  6]]\n",
            "\n",
            " [[ 7  8  9]\n",
            "  [10 11 12]]]\n",
            "<class 'numpy.ndarray'>\n",
            "(2, 2, 3)\n"
          ]
        }
      ]
    },
    {
      "cell_type": "markdown",
      "source": [
        "(2,2,3)의 의미: 큰 2 덩어리 안에 2개의 줄 안에 3개의 숫자"
      ],
      "metadata": {
        "id": "m9W-juOBiIie"
      }
    },
    {
      "cell_type": "markdown",
      "source": [
        "array의 맨 첫과 끝에 있는 [와 ]의 수로 몇 차원인지 파악 가능"
      ],
      "metadata": {
        "id": "08F9GHogh4iM"
      }
    },
    {
      "cell_type": "code",
      "source": [
        "# np.ones() : 1로 채워진 array\n",
        "# np.ones([2,2,3]) : 2*2*3의 1로 채워진 3d array\n",
        "x=np.ones([2,2,3])\n",
        "print(x)\n",
        "print(type(x))\n",
        "print(x.shape)"
      ],
      "metadata": {
        "id": "0-Z4jKuoiFMh",
        "outputId": "066e5d01-9861-4e83-ab7c-ca405ff2cc86",
        "colab": {
          "base_uri": "https://localhost:8080/"
        }
      },
      "execution_count": 19,
      "outputs": [
        {
          "output_type": "stream",
          "name": "stdout",
          "text": [
            "[[[1. 1. 1.]\n",
            "  [1. 1. 1.]]\n",
            "\n",
            " [[1. 1. 1.]\n",
            "  [1. 1. 1.]]]\n",
            "<class 'numpy.ndarray'>\n",
            "(2, 2, 3)\n"
          ]
        }
      ]
    },
    {
      "cell_type": "code",
      "source": [
        "# np.zeroes() : 위와 같은데 1이 아니라 0\n",
        "x= np.zeros([2,2,3])\n",
        "print(x)\n",
        "print(type(x))\n",
        "print(x.shape)"
      ],
      "metadata": {
        "id": "c2AcxXp8izIS",
        "outputId": "e9a4b0d8-0eca-4e6f-a4d9-75102b9d4c0a",
        "colab": {
          "base_uri": "https://localhost:8080/"
        }
      },
      "execution_count": 22,
      "outputs": [
        {
          "output_type": "stream",
          "name": "stdout",
          "text": [
            "[[[0. 0. 0.]\n",
            "  [0. 0. 0.]]\n",
            "\n",
            " [[0. 0. 0.]\n",
            "  [0. 0. 0.]]]\n",
            "<class 'numpy.ndarray'>\n",
            "(2, 2, 3)\n"
          ]
        }
      ]
    },
    {
      "cell_type": "markdown",
      "source": [
        "**Random Numbers 만들기**"
      ],
      "metadata": {
        "id": "5cgb11yRjQkJ"
      }
    },
    {
      "cell_type": "code",
      "source": [
        "# np.random.normal() : normal distribution(정규분포)의 nd array\n",
        "# .normal(0,1,[2,3,4]) : (mean, standard deviation, [큰 2 덩어리, 안에 3줄, 줄마다 4 숫자])\n",
        "np.random.normal(0,1,[2,3,4])"
      ],
      "metadata": {
        "id": "Xol2ZFLWjK0z",
        "outputId": "cd7150f3-2149-4f93-a20e-19d90d9819d5",
        "colab": {
          "base_uri": "https://localhost:8080/"
        }
      },
      "execution_count": 23,
      "outputs": [
        {
          "output_type": "execute_result",
          "data": {
            "text/plain": [
              "array([[[-0.45187574, -1.50999319,  0.41043515,  1.30396268],\n",
              "        [-0.69546392,  0.36408211, -0.72372022,  1.09389224],\n",
              "        [ 1.51041993,  0.38587469, -2.42803664, -0.54357128]],\n",
              "\n",
              "       [[-0.60953669, -1.6015753 , -0.80994537,  0.89454902],\n",
              "        [ 1.78899905, -1.99300465, -0.38231143, -0.08459613],\n",
              "        [-1.47022003, -0.32567765,  0.51084137, -0.00560207]]])"
            ]
          },
          "metadata": {},
          "execution_count": 23
        }
      ]
    },
    {
      "cell_type": "code",
      "source": [
        "import matplotlib.pyplot as plt"
      ],
      "metadata": {
        "id": "yq7al5sej2TW"
      },
      "execution_count": 24,
      "outputs": []
    },
    {
      "cell_type": "code",
      "source": [
        "# hist(x, bins=10) : bins 는 랜덤숫자들을 분류하는 통을 만든다는 의미\n",
        "x= np.random.normal(0,1,100)\n",
        "print(x)\n",
        "plt.hist(x, bins=10)"
      ],
      "metadata": {
        "id": "y2bhqnmhj7Lk",
        "outputId": "1cf993b0-db6c-4ad6-c2fa-00c2854cf9f5",
        "colab": {
          "base_uri": "https://localhost:8080/",
          "height": 664
        }
      },
      "execution_count": 26,
      "outputs": [
        {
          "output_type": "stream",
          "name": "stdout",
          "text": [
            "[-0.38949004 -0.95631161 -1.88945181 -1.35475668 -0.05108164  1.17671428\n",
            "  1.23413817 -0.72297462  1.72986282  0.63315439 -0.09217027 -2.42419359\n",
            " -1.74389697 -0.41521125 -1.75401638  0.44257201  0.61555877  0.05747493\n",
            " -1.45839583  0.8999232   0.93306999 -0.31151632 -1.70847003  1.48567236\n",
            "  1.22599031 -0.02154883  0.97068435 -0.17521144 -0.27680067 -0.4905883\n",
            " -1.16858339  0.85924329  1.56239414 -0.49161092  1.33777942  0.02287399\n",
            " -1.09920557 -0.13049515 -0.58742965  0.54286903  0.01808659  2.20118676\n",
            " -0.67266048 -0.74517492  1.14711807 -1.33409877  1.15299722 -1.80652034\n",
            " -0.65076069  0.48768064  1.3646698  -0.66091413 -1.13849864 -0.84076206\n",
            " -0.03292172 -0.31767852 -1.34604061 -1.56434056  0.60503817 -1.18265918\n",
            "  2.00093294  1.05319701 -2.34174085  0.52175392 -1.24877405  0.66616705\n",
            "  0.99554349 -0.74965591  1.44042525  0.89407589 -1.165629   -0.51264833\n",
            " -0.28670918  0.10198744  0.55423432 -1.06024694  1.0663917   2.21060399\n",
            "  1.4711874   0.50631771 -1.49462923  1.22963373  0.91011062 -1.7438908\n",
            "  0.88862948  0.65512213  0.43001306  0.64315028  0.38757642  0.0658329\n",
            "  0.36819183  0.2259602   1.09636322 -0.98083077  0.79589523  0.64314663\n",
            "  0.04562771 -0.19070293 -0.03252293 -1.23602522]\n"
          ]
        },
        {
          "output_type": "execute_result",
          "data": {
            "text/plain": [
              "(array([ 2.,  7., 13., 10., 12., 12., 17., 17.,  7.,  3.]),\n",
              " array([-2.42419359, -1.96071383, -1.49723407, -1.03375432, -0.57027456,\n",
              "        -0.1067948 ,  0.35668496,  0.82016472,  1.28364447,  1.74712423,\n",
              "         2.21060399]),\n",
              " <a list of 10 Patch objects>)"
            ]
          },
          "metadata": {},
          "execution_count": 26
        },
        {
          "output_type": "display_data",
          "data": {
            "text/plain": [
              "<Figure size 432x288 with 1 Axes>"
            ],
            "image/png": "[encoded data removed]"
          },
          "metadata": {
            "needs_background": "light"
          }
        }
      ]
    },
    {
      "cell_type": "markdown",
      "source": [
        "**Sine Curve**"
      ],
      "metadata": {
        "id": "-pM2Ze2ykZdO"
      }
    },
    {
      "cell_type": "code",
      "source": [
        "# plt.figure()\n",
        "# np.pi\n",
        "# np.sin()\n",
        "# plt.subplot()\n",
        "# plot.plot()\n",
        "\n",
        "plt.figure()\n",
        "\n",
        "theta1 = np.linspace(0, 2*np.pi, 100)\n",
        "s1 = np.sin(theta1)\n",
        "theta2 = np.linspace(0, 2*np.pi, 100) + np.pi/2\n",
        "s2 = np.sin(theta2)\n",
        "\n",
        "plt.subplot(2,1,1)\n",
        "plt.plot(theta1, s1, '.')\n",
        "plt.subplot(2,1,2)\n",
        "plt.plot(theta2, s2, '.')"
      ],
      "metadata": {
        "id": "dXLzG7VikXyM",
        "outputId": "3161d553-a107-4209-d11b-9326ce9297ea",
        "colab": {
          "base_uri": "https://localhost:8080/",
          "height": 283
        }
      },
      "execution_count": 32,
      "outputs": [
        {
          "output_type": "execute_result",
          "data": {
            "text/plain": [
              "[<matplotlib.lines.Line2D at 0x7fb67481c650>]"
            ]
          },
          "metadata": {},
          "execution_count": 32
        },
        {
          "output_type": "display_data",
          "data": {
            "text/plain": [
              "<Figure size 432x288 with 2 Axes>"
            ],
            "image/png": "[encoded data removed]"
          },
          "metadata": {
            "needs_background": "light"
          }
        }
      ]
    },
    {
      "cell_type": "markdown",
      "source": [
        "plt.figure()로 틀을 잡음\n",
        "\n",
        "첫번째 4줄은 숫자를 만드는 것, 그 다음 4줄은 그림을 그리는 부분. \n",
        "\n",
        "theta1은 0부터 2파이까지 등분해서 100개의 숫자를 뽑아냄. 0~360도.\n",
        "\n",
        "theta2는 0~360도 + 90도 = 90에서 450도까지\n",
        "\n",
        "plt.subplot(2,1,1) : (2줄, 세로 1줄, 1번째 그림)\n",
        "\n",
        "plt.subplot(theta1, s1, '.') : (x값, y값, '.'으로 그림)\n",
        "\n"
      ],
      "metadata": {
        "id": "kV-nAn35oZ_f"
      }
    },
    {
      "cell_type": "markdown",
      "source": [
        "Q: theta1 안의 숫자 개수가 몇 개?\n",
        "\n",
        "A: 100개. 0부터 2파이까지 등분해서 100개의 숫자를 만든 것이기 때문.\n",
        "\n",
        "Q: s1 안의 숫자 개수는 몇 개?\n",
        "\n",
        "A: 100개. theta1의 100개 수를 함수에 넣어 100개의 점을 만들어낸 것이기 때문."
      ],
      "metadata": {
        "id": "VfgbLTOjoCrh"
      }
    },
    {
      "cell_type": "code",
      "source": [
        "# np.corrcoe(): 어느 정도 비례하는지를 알아보기 위한 함수\n",
        "np.corrcoef(s1,s2)"
      ],
      "metadata": {
        "id": "dbrcJGpTqFY3",
        "outputId": "f22069db-ce16-4c9c-b741-aa5ea40d8346",
        "colab": {
          "base_uri": "https://localhost:8080/"
        }
      },
      "execution_count": 33,
      "outputs": [
        {
          "output_type": "execute_result",
          "data": {
            "text/plain": [
              "array([[1.00000000e+00, 2.41915449e-17],\n",
              "       [2.41915449e-17, 1.00000000e+00]])"
            ]
          },
          "metadata": {},
          "execution_count": 33
        }
      ]
    },
    {
      "cell_type": "markdown",
      "source": [
        "correlation coef\n",
        "\n",
        "-1 <= r <= 1\n",
        "r이 음수: 반비례\n",
        "r이 양수: 정비례\n",
        "\n",
        "r의 절댓값이 1에 가까워질수록 밀집"
      ],
      "metadata": {
        "id": "1D4QoMgtqbv8"
      }
    }
  ]
}