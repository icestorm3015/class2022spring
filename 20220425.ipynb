{
  "nbformat": 4,
  "nbformat_minor": 0,
  "metadata": {
    "colab": {
      "name": "20220425.ipynb",
      "provenance": [],
      "authorship_tag": "ABX9TyOW+QXBlzGD/NdqRl3rpHwD",
      "include_colab_link": true
    },
    "kernelspec": {
      "name": "python3",
      "display_name": "Python 3"
    },
    "language_info": {
      "name": "python"
    }
  },
  "cells": [
    {
      "cell_type": "markdown",
      "metadata": {
        "id": "view-in-github",
        "colab_type": "text"
      },
      "source": [
        "<a href=\"https://colab.research.google.com/github/icestorm3015/class2022spring/blob/main/20220425.ipynb\" target=\"_parent\"><img src=\"https://colab.research.google.com/assets/colab-badge.svg\" alt=\"Open In Colab\"/></a>"
      ]
    },
    {
      "cell_type": "markdown",
      "source": [
        "Auto Correlation\n",
        "- '자기상관': 말 그대로 자신의 데이터에 관하여 correlation을 한 것\n",
        "- 다른 시점에 관측된 두 데이터 값 사이의 상관 정도를 알아보는 것\n",
        "- 시차값 사이의 선형 관계를 측정하는 것\n",
        "\n",
        "Root Mean Square (실효치)\n",
        "- 각 값들의 제곱(square)을 구한 후, 이들의 평균(mean)에 대하여 제곱근(square)을 하는 것: 대표값의 한 종류\n",
        "- RMS 값이 클수록 증폭 능력이 좋은 것\n",
        "- 증폭기가 연속적으로 낼 수 있는 출력\n"
      ],
      "metadata": {
        "id": "vYGdMaOIIJPJ"
      }
    }
  ]
}