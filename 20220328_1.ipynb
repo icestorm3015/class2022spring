{
  "nbformat": 4,
  "nbformat_minor": 0,
  "metadata": {
    "colab": {
      "name": "20220328-1.ipynb",
      "provenance": [],
      "authorship_tag": "ABX9TyNoAfdAxgUOmbMOOm63oEww",
      "include_colab_link": true
    },
    "kernelspec": {
      "name": "python3",
      "display_name": "Python 3"
    },
    "language_info": {
      "name": "python"
    }
  },
  "cells": [
    {
      "cell_type": "markdown",
      "metadata": {
        "id": "view-in-github",
        "colab_type": "text"
      },
      "source": [
        "<a href=\"https://colab.research.google.com/github/icestorm3015/class2022spring/blob/main/20220328_1.ipynb\" target=\"_parent\"><img src=\"https://colab.research.google.com/assets/colab-badge.svg\" alt=\"Open In Colab\"/></a>"
      ]
    },
    {
      "cell_type": "code",
      "execution_count": null,
      "metadata": {
        "colab": {
          "base_uri": "https://localhost:8080/"
        },
        "id": "pAQ81E_7iYUN",
        "outputId": "c4e222ee-6a11-41ca-b8cc-e528f4d9ccc1"
      },
      "outputs": [
        {
          "output_type": "stream",
          "name": "stdout",
          "text": [
            "Collecting gradio\n",
            "  Downloading gradio-2.9.1-py3-none-any.whl (1.7 MB)\n",
            "\u001b[K     |████████████████████████████████| 1.7 MB 5.1 MB/s \n",
            "\u001b[?25hCollecting fastapi\n",
            "  Downloading fastapi-0.75.1-py3-none-any.whl (54 kB)\n",
            "\u001b[K     |████████████████████████████████| 54 kB 1.4 MB/s \n",
            "\u001b[?25hCollecting pycryptodome\n",
            "  Downloading pycryptodome-3.14.1-cp35-abi3-manylinux2010_x86_64.whl (2.0 MB)\n",
            "\u001b[K     |████████████████████████████████| 2.0 MB 44.7 MB/s \n",
            "\u001b[?25hCollecting python-multipart\n",
            "  Downloading python-multipart-0.0.5.tar.gz (32 kB)\n",
            "Requirement already satisfied: pandas in /usr/local/lib/python3.7/dist-packages (from gradio) (1.3.5)\n",
            "Collecting aiohttp\n",
            "  Downloading aiohttp-3.8.1-cp37-cp37m-manylinux_2_5_x86_64.manylinux1_x86_64.manylinux_2_12_x86_64.manylinux2010_x86_64.whl (1.1 MB)\n",
            "\u001b[K     |████████████████████████████████| 1.1 MB 44.1 MB/s \n",
            "\u001b[?25hRequirement already satisfied: numpy in /usr/local/lib/python3.7/dist-packages (from gradio) (1.21.5)\n",
            "Requirement already satisfied: requests in /usr/local/lib/python3.7/dist-packages (from gradio) (2.23.0)\n",
            "Requirement already satisfied: pillow in /usr/local/lib/python3.7/dist-packages (from gradio) (7.1.2)\n",
            "Collecting orjson\n",
            "  Downloading orjson-3.6.7-cp37-cp37m-manylinux_2_24_x86_64.whl (255 kB)\n",
            "\u001b[K     |████████████████████████████████| 255 kB 59.1 MB/s \n",
            "\u001b[?25hCollecting pydub\n",
            "  Downloading pydub-0.25.1-py2.py3-none-any.whl (32 kB)\n",
            "Collecting ffmpy\n",
            "  Downloading ffmpy-0.3.0.tar.gz (4.8 kB)\n",
            "Collecting uvicorn\n",
            "  Downloading uvicorn-0.17.6-py3-none-any.whl (53 kB)\n",
            "\u001b[K     |████████████████████████████████| 53 kB 2.2 MB/s \n",
            "\u001b[?25hCollecting analytics-python\n",
            "  Downloading analytics_python-1.4.0-py2.py3-none-any.whl (15 kB)\n",
            "Collecting markdown-it-py[linkify,plugins]\n",
            "  Downloading markdown_it_py-2.0.1-py3-none-any.whl (84 kB)\n",
            "\u001b[K     |████████████████████████████████| 84 kB 2.8 MB/s \n",
            "\u001b[?25hRequirement already satisfied: matplotlib in /usr/local/lib/python3.7/dist-packages (from gradio) (3.2.2)\n",
            "Collecting paramiko\n",
            "  Downloading paramiko-2.10.3-py2.py3-none-any.whl (211 kB)\n",
            "\u001b[K     |████████████████████████████████| 211 kB 51.8 MB/s \n",
            "\u001b[?25hRequirement already satisfied: charset-normalizer<3.0,>=2.0 in /usr/local/lib/python3.7/dist-packages (from aiohttp->gradio) (2.0.12)\n",
            "Requirement already satisfied: attrs>=17.3.0 in /usr/local/lib/python3.7/dist-packages (from aiohttp->gradio) (21.4.0)\n",
            "Collecting frozenlist>=1.1.1\n",
            "  Downloading frozenlist-1.3.0-cp37-cp37m-manylinux_2_5_x86_64.manylinux1_x86_64.manylinux_2_17_x86_64.manylinux2014_x86_64.whl (144 kB)\n",
            "\u001b[K     |████████████████████████████████| 144 kB 49.5 MB/s \n",
            "\u001b[?25hCollecting async-timeout<5.0,>=4.0.0a3\n",
            "  Downloading async_timeout-4.0.2-py3-none-any.whl (5.8 kB)\n",
            "Requirement already satisfied: typing-extensions>=3.7.4 in /usr/local/lib/python3.7/dist-packages (from aiohttp->gradio) (3.10.0.2)\n",
            "Collecting multidict<7.0,>=4.5\n",
            "  Downloading multidict-6.0.2-cp37-cp37m-manylinux_2_17_x86_64.manylinux2014_x86_64.whl (94 kB)\n",
            "\u001b[K     |████████████████████████████████| 94 kB 3.3 MB/s \n",
            "\u001b[?25hCollecting asynctest==0.13.0\n",
            "  Downloading asynctest-0.13.0-py3-none-any.whl (26 kB)\n",
            "Collecting yarl<2.0,>=1.0\n",
            "  Downloading yarl-1.7.2-cp37-cp37m-manylinux_2_5_x86_64.manylinux1_x86_64.manylinux_2_12_x86_64.manylinux2010_x86_64.whl (271 kB)\n",
            "\u001b[K     |████████████████████████████████| 271 kB 54.5 MB/s \n",
            "\u001b[?25hCollecting aiosignal>=1.1.2\n",
            "  Downloading aiosignal-1.2.0-py3-none-any.whl (8.2 kB)\n",
            "Requirement already satisfied: idna>=2.0 in /usr/local/lib/python3.7/dist-packages (from yarl<2.0,>=1.0->aiohttp->gradio) (2.10)\n",
            "Collecting monotonic>=1.5\n",
            "  Downloading monotonic-1.6-py2.py3-none-any.whl (8.2 kB)\n",
            "Requirement already satisfied: six>=1.5 in /usr/local/lib/python3.7/dist-packages (from analytics-python->gradio) (1.15.0)\n",
            "Collecting backoff==1.10.0\n",
            "  Downloading backoff-1.10.0-py2.py3-none-any.whl (31 kB)\n",
            "Requirement already satisfied: python-dateutil>2.1 in /usr/local/lib/python3.7/dist-packages (from analytics-python->gradio) (2.8.2)\n",
            "Requirement already satisfied: urllib3!=1.25.0,!=1.25.1,<1.26,>=1.21.1 in /usr/local/lib/python3.7/dist-packages (from requests->gradio) (1.24.3)\n",
            "Requirement already satisfied: chardet<4,>=3.0.2 in /usr/local/lib/python3.7/dist-packages (from requests->gradio) (3.0.4)\n",
            "Requirement already satisfied: certifi>=2017.4.17 in /usr/local/lib/python3.7/dist-packages (from requests->gradio) (2021.10.8)\n",
            "Collecting pydantic!=1.7,!=1.7.1,!=1.7.2,!=1.7.3,!=1.8,!=1.8.1,<2.0.0,>=1.6.2\n",
            "  Downloading pydantic-1.9.0-cp37-cp37m-manylinux_2_17_x86_64.manylinux2014_x86_64.whl (10.9 MB)\n",
            "\u001b[K     |████████████████████████████████| 10.9 MB 45.6 MB/s \n",
            "\u001b[?25hCollecting starlette==0.17.1\n",
            "  Downloading starlette-0.17.1-py3-none-any.whl (58 kB)\n",
            "\u001b[K     |████████████████████████████████| 58 kB 5.6 MB/s \n",
            "\u001b[?25hCollecting anyio<4,>=3.0.0\n",
            "  Downloading anyio-3.5.0-py3-none-any.whl (79 kB)\n",
            "\u001b[K     |████████████████████████████████| 79 kB 8.5 MB/s \n",
            "\u001b[?25hCollecting sniffio>=1.1\n",
            "  Downloading sniffio-1.2.0-py3-none-any.whl (10 kB)\n",
            "Collecting mdurl~=0.1\n",
            "  Downloading mdurl-0.1.0-py3-none-any.whl (11 kB)\n",
            "Collecting linkify-it-py~=1.0\n",
            "  Downloading linkify_it_py-1.0.3-py3-none-any.whl (19 kB)\n",
            "Collecting mdit-py-plugins\n",
            "  Downloading mdit_py_plugins-0.3.0-py3-none-any.whl (43 kB)\n",
            "\u001b[K     |████████████████████████████████| 43 kB 2.1 MB/s \n",
            "\u001b[?25hCollecting uc-micro-py\n",
            "  Downloading uc_micro_py-1.0.1-py3-none-any.whl (6.2 kB)\n",
            "Requirement already satisfied: pyparsing!=2.0.4,!=2.1.2,!=2.1.6,>=2.0.1 in /usr/local/lib/python3.7/dist-packages (from matplotlib->gradio) (3.0.7)\n",
            "Requirement already satisfied: kiwisolver>=1.0.1 in /usr/local/lib/python3.7/dist-packages (from matplotlib->gradio) (1.4.0)\n",
            "Requirement already satisfied: cycler>=0.10 in /usr/local/lib/python3.7/dist-packages (from matplotlib->gradio) (0.11.0)\n",
            "Requirement already satisfied: pytz>=2017.3 in /usr/local/lib/python3.7/dist-packages (from pandas->gradio) (2018.9)\n",
            "Collecting pynacl>=1.0.1\n",
            "  Downloading PyNaCl-1.5.0-cp36-abi3-manylinux_2_17_x86_64.manylinux2014_x86_64.manylinux_2_24_x86_64.whl (856 kB)\n",
            "\u001b[K     |████████████████████████████████| 856 kB 59.3 MB/s \n",
            "\u001b[?25hCollecting bcrypt>=3.1.3\n",
            "  Downloading bcrypt-3.2.0-cp36-abi3-manylinux_2_17_x86_64.manylinux2014_x86_64.manylinux_2_24_x86_64.whl (61 kB)\n",
            "\u001b[K     |████████████████████████████████| 61 kB 436 kB/s \n",
            "\u001b[?25hCollecting cryptography>=2.5\n",
            "  Downloading cryptography-36.0.2-cp36-abi3-manylinux_2_24_x86_64.whl (3.6 MB)\n",
            "\u001b[K     |████████████████████████████████| 3.6 MB 43.8 MB/s \n",
            "\u001b[?25hRequirement already satisfied: cffi>=1.1 in /usr/local/lib/python3.7/dist-packages (from bcrypt>=3.1.3->paramiko->gradio) (1.15.0)\n",
            "Requirement already satisfied: pycparser in /usr/local/lib/python3.7/dist-packages (from cffi>=1.1->bcrypt>=3.1.3->paramiko->gradio) (2.21)\n",
            "Requirement already satisfied: click>=7.0 in /usr/local/lib/python3.7/dist-packages (from uvicorn->gradio) (7.1.2)\n",
            "Collecting asgiref>=3.4.0\n",
            "  Downloading asgiref-3.5.0-py3-none-any.whl (22 kB)\n",
            "Collecting h11>=0.8\n",
            "  Downloading h11-0.13.0-py3-none-any.whl (58 kB)\n",
            "\u001b[K     |████████████████████████████████| 58 kB 6.1 MB/s \n",
            "\u001b[?25hBuilding wheels for collected packages: ffmpy, python-multipart\n",
            "  Building wheel for ffmpy (setup.py) ... \u001b[?25l\u001b[?25hdone\n",
            "  Created wheel for ffmpy: filename=ffmpy-0.3.0-py3-none-any.whl size=4712 sha256=454c9aab5747411c70e7dd7e16bbfcad008a6b3ac8dafd834f9eadf234f47243\n",
            "  Stored in directory: /root/.cache/pip/wheels/13/e4/6c/e8059816e86796a597c6e6b0d4c880630f51a1fcfa0befd5e6\n",
            "  Building wheel for python-multipart (setup.py) ... \u001b[?25l\u001b[?25hdone\n",
            "  Created wheel for python-multipart: filename=python_multipart-0.0.5-py3-none-any.whl size=31678 sha256=9874638bb610838627b8312bb940a4387fe796f19b27a1f47b2c03dcc89bcf5e\n",
            "  Stored in directory: /root/.cache/pip/wheels/2c/41/7c/bfd1c180534ffdcc0972f78c5758f89881602175d48a8bcd2c\n",
            "Successfully built ffmpy python-multipart\n",
            "Installing collected packages: sniffio, mdurl, uc-micro-py, multidict, markdown-it-py, frozenlist, anyio, yarl, starlette, pynacl, pydantic, monotonic, mdit-py-plugins, linkify-it-py, h11, cryptography, bcrypt, backoff, asynctest, async-timeout, asgiref, aiosignal, uvicorn, python-multipart, pydub, pycryptodome, paramiko, orjson, ffmpy, fastapi, analytics-python, aiohttp, gradio\n",
            "Successfully installed aiohttp-3.8.1 aiosignal-1.2.0 analytics-python-1.4.0 anyio-3.5.0 asgiref-3.5.0 async-timeout-4.0.2 asynctest-0.13.0 backoff-1.10.0 bcrypt-3.2.0 cryptography-36.0.2 fastapi-0.75.1 ffmpy-0.3.0 frozenlist-1.3.0 gradio-2.9.1 h11-0.13.0 linkify-it-py-1.0.3 markdown-it-py-2.0.1 mdit-py-plugins-0.3.0 mdurl-0.1.0 monotonic-1.6 multidict-6.0.2 orjson-3.6.7 paramiko-2.10.3 pycryptodome-3.14.1 pydantic-1.9.0 pydub-0.25.1 pynacl-1.5.0 python-multipart-0.0.5 sniffio-1.2.0 starlette-0.17.1 uc-micro-py-1.0.1 uvicorn-0.17.6 yarl-1.7.2\n"
          ]
        }
      ],
      "source": [
        "!pip install gradio\n",
        "import gradio as gr\n",
        "import requests\n",
        "import pandas as pd"
      ]
    },
    {
      "cell_type": "code",
      "source": [
        "URL = ('http://apis.data.go.kr/6260000/BusanKidsCafeInfoService/getKidsCafeInfo?serviceKey=PXW5a4vvcz2MPn%2B5%2FV3JjgShSUrvCh8Om4Rj725ZWKXO38KDgQMI9AcfcvtFDL6Fpi5d7pxkpeTLVk3SN32JAA%3D%3D&numOfRows=10&pageNo=1&resultType=json&cafe_nm=cafe')"
      ],
      "metadata": {
        "id": "WNds72N1ruY5"
      },
      "execution_count": 70,
      "outputs": []
    },
    {
      "cell_type": "code",
      "source": [
        "response = requests.get(URL)"
      ],
      "metadata": {
        "id": "0CDgQxEutY-E"
      },
      "execution_count": 71,
      "outputs": []
    },
    {
      "cell_type": "code",
      "source": [
        "r = response.json()\n",
        "r"
      ],
      "metadata": {
        "colab": {
          "base_uri": "https://localhost:8080/"
        },
        "id": "c-QoeLvwtbEe",
        "outputId": "d7135d45-e3fa-42c4-fb96-55fa71766c7e"
      },
      "execution_count": 72,
      "outputs": [
        {
          "output_type": "execute_result",
          "data": {
            "text/plain": [
              "{'getKidsCafeInfo': {'header': {'code': '00', 'message': 'NORMAL_CODE'},\n",
              "  'item': [{'cafe_nm': '아이야 놀자',\n",
              "    'data_date': '2021-09-14',\n",
              "    'gugun': '해운대구',\n",
              "    'lat': '35.1866842540',\n",
              "    'lng': '129.1261586990',\n",
              "    'road_nm': '부산광역시 해운대구 재반로84번길 17, 2층 (재송동)',\n",
              "    'tel_no': ''},\n",
              "   {'cafe_nm': '화목방방랜드',\n",
              "    'data_date': '2021-09-14',\n",
              "    'gugun': '해운대구',\n",
              "    'lat': '35.1714902510',\n",
              "    'lng': '129.1793388245',\n",
              "    'road_nm': '부산광역시 해운대구 대천로 187 (좌동, 해운대화목타운)',\n",
              "    'tel_no': ''},\n",
              "   {'cafe_nm': '타요키즈카페 부산좌동점',\n",
              "    'data_date': '2021-09-14',\n",
              "    'gugun': '해운대구',\n",
              "    'lat': '35.1680116158',\n",
              "    'lng': '129.1789619555',\n",
              "    'road_nm': '부산광역시 해운대구 세실로 33 (좌동, 좌동메디컬센타)',\n",
              "    'tel_no': '051-912-0555'},\n",
              "   {'cafe_nm': '슈슈봉봉 해운대점',\n",
              "    'data_date': '2021-09-14',\n",
              "    'gugun': '해운대구',\n",
              "    'lat': '35.1636839888',\n",
              "    'lng': '129.1448721796',\n",
              "    'road_nm': '부산광역시 해운대구 해운대로469번길 8, 2층 (우동)',\n",
              "    'tel_no': '051-731-2773'},\n",
              "   {'cafe_nm': '주바운스클럽 트램폴린파크 해운대점',\n",
              "    'data_date': '2021-09-14',\n",
              "    'gugun': '해운대구',\n",
              "    'lat': '35.1705360467',\n",
              "    'lng': '129.1770491018',\n",
              "    'road_nm': '부산광역시 해운대구 해운대로 813, 지팝건축물 11층 (좌동)',\n",
              "    'tel_no': '051-704-9856'},\n",
              "   {'cafe_nm': '정글방방',\n",
              "    'data_date': '2021-09-14',\n",
              "    'gugun': '해운대구',\n",
              "    'lat': '35.2036153026',\n",
              "    'lng': '129.1196345450',\n",
              "    'road_nm': '부산광역시 해운대구 선수촌로 109-1, 반여아시아드몰 7층 (반여동)',\n",
              "    'tel_no': ''},\n",
              "   {'cafe_nm': '시크릿쥬쥬또봇키즈카페 센텀점',\n",
              "    'data_date': '2021-09-14',\n",
              "    'gugun': '해운대구',\n",
              "    'lat': '35.1709132429',\n",
              "    'lng': '129.1336918633',\n",
              "    'road_nm': '부산광역시 해운대구 센텀동로 6, 홈플러스 센텀시티점 G4, 5호 (우동)',\n",
              "    'tel_no': '051-747-9200'},\n",
              "   {'cafe_nm': '우당탕탕놀이터',\n",
              "    'data_date': '2021-09-14',\n",
              "    'gugun': '해운대구',\n",
              "    'lat': '35.2246457719',\n",
              "    'lng': '129.1473078098',\n",
              "    'road_nm': '부산광역시 해운대구 아랫반송로26번길 57-24, 우당탕탕놀이터 (반송동)',\n",
              "    'tel_no': '070-7393-2680'},\n",
              "   {'cafe_nm': '홈플러스 아시아드점 챔피언더블랙벨트',\n",
              "    'data_date': '2021-09-14',\n",
              "    'gugun': '연제구',\n",
              "    'lat': '35.19128774',\n",
              "    'lng': '129.0638209',\n",
              "    'road_nm': '부산광역시 연제구 종합운동장로 7, 홈플러스 아시아드점 지하2층 (거제동)',\n",
              "    'tel_no': '051-505-0506'},\n",
              "   {'cafe_nm': '아이점프(연산점)',\n",
              "    'data_date': '2021-09-14',\n",
              "    'gugun': '연제구',\n",
              "    'lat': '35.19329578',\n",
              "    'lng': '129.0857883',\n",
              "    'road_nm': '부산광역시 연제구 거제천로269번길 31, 상가동 2층 (거제동, 온천천 동원로얄듀크)',\n",
              "    'tel_no': '051-852-0889'}],\n",
              "  'numOfRows': 10,\n",
              "  'pageNo': 1,\n",
              "  'totalCount': 58}}"
            ]
          },
          "metadata": {},
          "execution_count": 72
        }
      ]
    },
    {
      "cell_type": "code",
      "source": [
        "items = r['getKidsCafeInfo']['item']\n",
        "\n",
        "cafe_nm = [item['cafe_nm']for item in items]\n",
        "gugun = [item['gugun'] for item in items]\n",
        "road_nm = [item['road_nm'] for item in items]\n",
        "tel_no = [item['tel_no'] for item in items]\n",
        "\n",
        "cafe_nm = pd.Series(cafe_nm)\n",
        "gugun = pd.Series(gugun)\n",
        "road_nm=pd.Series(road_nm)\n",
        "tel_no=pd.Series(tel_no)\n",
        "\n",
        "df = pd.DataFrame({'cafe_nm': cafe_nm, 'gugun': gugun, 'road_nm': road_nm, 'tel_no': tel_no})"
      ],
      "metadata": {
        "id": "JfzyiSuTtftw"
      },
      "execution_count": 73,
      "outputs": []
    },
    {
      "cell_type": "code",
      "source": [
        "def test(cafe_nm):\n",
        "  URL = ('http://apis.data.go.kr/6260000/BusanKidsCafeInfoService/getKidsCafeInfo?serviceKey=PXW5a4vvcz2MPn%2B5%2FV3JjgShSUrvCh8Om4Rj725ZWKXO38KDgQMI9AcfcvtFDL6Fpi5d7pxkpeTLVk3SN32JAA%3D%3D&numOfRows=10&pageNo=1&resultType=json&cafe_nm='+cafe_nm)\n",
        "\n",
        "  response = requests.get(URL)\n",
        "  r = response.json()\n",
        "  items = r['getKidsCafeInfo']['item']\n",
        "\n",
        "  cafe_nm = [item['cafe_nm']for item in items]\n",
        "  gugun = [item['gugun'] for item in items]\n",
        "  road_nm = [item['road_nm'] for item in items]\n",
        "  tel_no = [item['tel_no'] for item in items]\n",
        "  \n",
        "  cafe_nm = pd.Series(cafe_nm)\n",
        "  gugun = pd.Series(gugun)\n",
        "  road_nm=pd.Series(road_nm)\n",
        "  tel_no=pd.Series(tel_no)\n",
        "  \n",
        "  df = pd.DataFrame({'cafe_nm': cafe_nm, 'gugun': gugun, 'road_nm': road_nm, 'tel_no': tel_no})\n",
        "  return df"
      ],
      "metadata": {
        "id": "UMNYqqHswThL"
      },
      "execution_count": 74,
      "outputs": []
    },
    {
      "cell_type": "code",
      "source": [
        "iface = gr.Interface(test, gr.inputs.Dropdown(['아이야 놀자', '화목방방랜드', '타요키즈카페 부산좌동점']), outputs=['dataframe'])\n",
        "iface.launch(debug=True)"
      ],
      "metadata": {
        "colab": {
          "base_uri": "https://localhost:8080/",
          "height": 665
        },
        "id": "qCeWeUad1bZW",
        "outputId": "fb09aa34-33d2-445d-e8db-228cbb6dda5a"
      },
      "execution_count": 76,
      "outputs": [
        {
          "output_type": "stream",
          "name": "stdout",
          "text": [
            "Colab notebook detected. This cell will run indefinitely so that you can see errors and logs. To turn off, set debug=False in launch().\n",
            "Running on public URL: https://24043.gradio.app\n",
            "\n",
            "This share link expires in 72 hours. For free permanent hosting, check out Spaces (https://huggingface.co/spaces)\n"
          ]
        },
        {
          "output_type": "display_data",
          "data": {
            "text/plain": [
              "<IPython.lib.display.IFrame at 0x7f02e62f6350>"
            ],
            "text/html": [
              "\n",
              "        <iframe\n",
              "            width=\"900\"\n",
              "            height=\"500\"\n",
              "            src=\"https://24043.gradio.app\"\n",
              "            frameborder=\"0\"\n",
              "            allowfullscreen\n",
              "        ></iframe>\n",
              "        "
            ]
          },
          "metadata": {}
        },
        {
          "output_type": "stream",
          "name": "stdout",
          "text": [
            "Keyboard interruption in main thread... closing server.\n"
          ]
        },
        {
          "output_type": "execute_result",
          "data": {
            "text/plain": [
              "(<fastapi.applications.FastAPI at 0x7f02f249de50>,\n",
              " 'http://127.0.0.1:7860/',\n",
              " 'https://24043.gradio.app')"
            ]
          },
          "metadata": {},
          "execution_count": 76
        }
      ]
    }
  ]
}